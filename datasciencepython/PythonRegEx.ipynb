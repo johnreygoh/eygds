{
 "cells": [
  {
   "cell_type": "code",
   "execution_count": 22,
   "id": "635d57a7",
   "metadata": {},
   "outputs": [],
   "source": [
    "# import lib regex\n",
    "import re"
   ]
  },
  {
   "cell_type": "code",
   "execution_count": 23,
   "id": "0eb10a8b",
   "metadata": {},
   "outputs": [
    {
     "data": {
      "text/plain": [
       "<re.Match object; span=(29, 34), match='earth'>"
      ]
     },
     "execution_count": 23,
     "metadata": {},
     "output_type": "execute_result"
    }
   ],
   "source": [
    "# search within a collection \n",
    "ss = \"I angry and I am from planet earth\"\n",
    "re.search('earth',ss)"
   ]
  },
  {
   "cell_type": "code",
   "execution_count": 24,
   "id": "ac836029",
   "metadata": {},
   "outputs": [
    {
     "data": {
      "text/plain": [
       "<re.Match object; span=(6, 7), match='y'>"
      ]
     },
     "execution_count": 24,
     "metadata": {},
     "output_type": "execute_result"
    }
   ],
   "source": [
    "# square brackets = single characters\n",
    "re.search('[xyp]',ss)"
   ]
  },
  {
   "cell_type": "code",
   "execution_count": 25,
   "id": "2c48a4de",
   "metadata": {},
   "outputs": [
    {
     "data": {
      "text/plain": [
       "<re.Match object; span=(2, 4), match='an'>"
      ]
     },
     "execution_count": 25,
     "metadata": {},
     "output_type": "execute_result"
    }
   ],
   "source": [
    "# dot . = any 1 charcter\n",
    "re.search('a.',ss)"
   ]
  },
  {
   "cell_type": "code",
   "execution_count": 36,
   "id": "82a0f859",
   "metadata": {},
   "outputs": [
    {
     "data": {
      "text/plain": [
       "<re.Match object; span=(2, 4), match='ma'>"
      ]
     },
     "execution_count": 36,
     "metadata": {},
     "output_type": "execute_result"
    }
   ],
   "source": [
    "# star * = any number of character, beginning with that char\n",
    "# re.search('ma*','man')\n",
    "re.search('ma*','woman')"
   ]
  },
  {
   "cell_type": "code",
   "execution_count": 46,
   "id": "eedd1fe6",
   "metadata": {},
   "outputs": [
    {
     "data": {
      "text/plain": [
       "<re.Match object; span=(0, 3), match='a8m'>"
      ]
     },
     "execution_count": 46,
     "metadata": {},
     "output_type": "execute_result"
    }
   ],
   "source": [
    "# parenthesis () single char match\n",
    "re.search('(a)m','ammm')\n",
    "re.search('(a)[be]m','abmm')\n",
    "re.search('(a)[^s]m','abmm')\n",
    "re.search('(a)[a-z]m','aBmm')\n",
    "re.search('(a)[a-zA-Z]m','aBmm')\n",
    "re.search('(a)[0-9a-zA-Z]m','a8mm')"
   ]
  },
  {
   "cell_type": "code",
   "execution_count": null,
   "id": "9e7745d3",
   "metadata": {},
   "outputs": [],
   "source": []
  }
 ],
 "metadata": {
  "kernelspec": {
   "display_name": "Python 3 (ipykernel)",
   "language": "python",
   "name": "python3"
  },
  "language_info": {
   "codemirror_mode": {
    "name": "ipython",
    "version": 3
   },
   "file_extension": ".py",
   "mimetype": "text/x-python",
   "name": "python",
   "nbconvert_exporter": "python",
   "pygments_lexer": "ipython3",
   "version": "3.10.4"
  }
 },
 "nbformat": 4,
 "nbformat_minor": 5
}
