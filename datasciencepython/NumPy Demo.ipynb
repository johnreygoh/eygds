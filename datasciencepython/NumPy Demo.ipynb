{
 "cells": [
  {
   "cell_type": "code",
   "execution_count": 2,
   "id": "f5173419",
   "metadata": {},
   "outputs": [
    {
     "name": "stdout",
     "output_type": "stream",
     "text": [
      "Package               Version\n",
      "--------------------- ----------\n",
      "appdirs               1.4.4\n",
      "argon2-cffi           21.3.0\n",
      "argon2-cffi-bindings  21.2.0\n",
      "asttokens             2.0.8\n",
      "attrs                 22.1.0\n",
      "backcall              0.2.0\n",
      "bcrypt                3.2.0\n",
      "beautifulsoup4        4.10.0\n",
      "bleach                5.0.1\n",
      "certifi               2021.10.8\n",
      "cffi                  1.15.0\n",
      "charset-normalizer    2.0.12\n",
      "colorama              0.4.5\n",
      "cryptography          36.0.2\n",
      "cycler                0.11.0\n",
      "dabl                  0.2.2\n",
      "debugpy               1.6.3\n",
      "decorator             5.1.1\n",
      "defusedxml            0.7.1\n",
      "email-scraper         0.4\n",
      "entrypoints           0.4\n",
      "executing             0.10.0\n",
      "fastjsonschema        2.16.1\n",
      "feedparser            6.0.8\n",
      "fonttools             4.36.0\n",
      "future                0.18.2\n",
      "htmlmin               0.1.12\n",
      "idna                  3.3\n",
      "ImageHash             4.2.1\n",
      "importlib-metadata    4.12.0\n",
      "importlib-resources   5.9.0\n",
      "ipykernel             6.15.1\n",
      "ipython               8.4.0\n",
      "ipython-genutils      0.2.0\n",
      "ipywidgets            8.0.1\n",
      "jedi                  0.18.1\n",
      "Jinja2                3.1.2\n",
      "joblib                1.1.0\n",
      "jsonschema            4.13.0\n",
      "jupyter               1.0.0\n",
      "jupyter-client        7.3.4\n",
      "jupyter-console       6.4.4\n",
      "jupyter-core          4.11.1\n",
      "jupyterlab-pygments   0.2.2\n",
      "jupyterlab-widgets    3.0.2\n",
      "kiwisolver            1.4.4\n",
      "lxml                  4.9.1\n",
      "MarkupSafe            2.1.1\n",
      "matplotlib            3.5.3\n",
      "matplotlib-inline     0.1.6\n",
      "missingno             0.5.1\n",
      "mistune               0.8.4\n",
      "multimethod           1.8\n",
      "nbclient              0.6.6\n",
      "nbconvert             6.5.3\n",
      "nbformat              5.4.0\n",
      "nest-asyncio          1.5.5\n",
      "networkx              2.8.5\n",
      "notebook              6.4.12\n",
      "numpy                 1.23.2\n",
      "packaging             21.3\n",
      "pandas                1.4.3\n",
      "pandas-profiling      3.2.0\n",
      "pandocfilters         1.5.0\n",
      "paramiko              2.10.3\n",
      "parso                 0.8.3\n",
      "pefile                2022.5.30\n",
      "phik                  0.12.2\n",
      "pickleshare           0.7.5\n",
      "Pillow                9.2.0\n",
      "pip                   22.2.2\n",
      "prometheus-client     0.14.1\n",
      "prompt-toolkit        3.0.30\n",
      "psutil                5.9.1\n",
      "pure-eval             0.2.2\n",
      "pycparser             2.21\n",
      "pydantic              1.9.2\n",
      "pyee                  8.2.2\n",
      "Pygments              2.13.0\n",
      "PyMySQL               1.0.2\n",
      "PyNaCl                1.5.0\n",
      "pyparsing             3.0.9\n",
      "pyppeteer             1.0.2\n",
      "pyrsistent            0.18.1\n",
      "python-dateutil       2.8.2\n",
      "pytz                  2022.2.1\n",
      "PyWavelets            1.3.0\n",
      "pywin32               304\n",
      "pywinpty              2.0.7\n",
      "PyYAML                6.0\n",
      "pyzmq                 23.2.1\n",
      "qtconsole             5.3.1\n",
      "QtPy                  2.2.0\n",
      "requests              2.27.1\n",
      "scikit-learn          1.1.2\n",
      "scipy                 1.9.0\n",
      "seaborn               0.11.2\n",
      "Send2Trash            1.8.0\n",
      "setuptools            58.1.0\n",
      "sgmllib3k             1.0.0\n",
      "six                   1.16.0\n",
      "soupsieve             2.3.2\n",
      "stack-data            0.4.0\n",
      "sweetviz              2.1.4\n",
      "tangled-up-in-unicode 0.2.0\n",
      "terminado             0.15.0\n",
      "threadpoolctl         3.1.0\n",
      "tinycss2              1.1.1\n",
      "tlds                  2022040600\n",
      "tornado               6.2\n",
      "tqdm                  4.64.0\n",
      "traitlets             5.3.0\n",
      "typing_extensions     4.3.0\n",
      "urllib3               1.26.9\n",
      "visions               0.7.4\n",
      "wcwidth               0.2.5\n",
      "webencodings          0.5.1\n",
      "websockets            10.3\n",
      "widgetsnbextension    4.0.2\n",
      "wikipedia             1.4.0\n",
      "zipp                  3.8.1\n",
      "Note: you may need to restart the kernel to use updated packages.\n"
     ]
    }
   ],
   "source": [
    "pip list"
   ]
  },
  {
   "cell_type": "markdown",
   "id": "64f0416c",
   "metadata": {},
   "source": [
    "NumPy aims provide an array object much 'better' than python. faster up to 50%."
   ]
  },
  {
   "cell_type": "code",
   "execution_count": 3,
   "id": "8d239a9c",
   "metadata": {},
   "outputs": [],
   "source": [
    "import numpy as np"
   ]
  },
  {
   "cell_type": "code",
   "execution_count": 10,
   "id": "5d7585e3",
   "metadata": {},
   "outputs": [
    {
     "data": {
      "text/plain": [
       "array([1, 4, 6, 3, 7])"
      ]
     },
     "execution_count": 10,
     "metadata": {},
     "output_type": "execute_result"
    }
   ],
   "source": [
    "# create a 1-d array\n",
    "li = [1,4,6,3,7]\n",
    "arr1 = np.array(li)\n",
    "arr1"
   ]
  },
  {
   "cell_type": "code",
   "execution_count": 18,
   "id": "cc752d0c",
   "metadata": {},
   "outputs": [
    {
     "data": {
      "text/plain": [
       "2"
      ]
     },
     "execution_count": 18,
     "metadata": {},
     "output_type": "execute_result"
    }
   ],
   "source": [
    "# create a 2-d array\n",
    "arr2 = np.array([[1,2,4],[5,6,8]])\n",
    "arr2[0][2]\n",
    "len(arr2)"
   ]
  },
  {
   "cell_type": "code",
   "execution_count": 36,
   "id": "86fc92f8",
   "metadata": {},
   "outputs": [
    {
     "name": "stderr",
     "output_type": "stream",
     "text": [
      "C:\\Users\\core360\\AppData\\Local\\Temp\\ipykernel_10252\\3058386644.py:2: VisibleDeprecationWarning: Creating an ndarray from ragged nested sequences (which is a list-or-tuple of lists-or-tuples-or ndarrays with different lengths or shapes) is deprecated. If you meant to do this, you must specify 'dtype=object' when creating the ndarray.\n",
      "  arr3 = np.array([[[[1,2,3],[4,5,6]],[[1,2,3],[4,5,6]]],[[1,2,3],[4,5,6]]])\n"
     ]
    },
    {
     "data": {
      "text/plain": [
       "5"
      ]
     },
     "execution_count": 36,
     "metadata": {},
     "output_type": "execute_result"
    }
   ],
   "source": [
    "# create a 3-d array\n",
    "arr3 = np.array([[[[1,2,3],[4,5,6]],[[1,2,3],[4,5,6]]],[[1,2,3],[4,5,6]]])\n",
    "#177\n",
    "arr3[0][1][1][1]\n",
    "# arr3[0,1,1]"
   ]
  },
  {
   "cell_type": "markdown",
   "id": "18cceb02",
   "metadata": {},
   "source": [
    "Math Operation\n",
    "-trigo\n",
    "-logarithmic\n",
    "-inverse\n",
    "-exponential\n",
    "-statistic"
   ]
  },
  {
   "cell_type": "code",
   "execution_count": 37,
   "id": "8da2695d",
   "metadata": {},
   "outputs": [
    {
     "data": {
      "text/plain": [
       "array([ 0.54030231, -0.9899925 ,  0.28366219, -0.41614684,  0.96017029])"
      ]
     },
     "execution_count": 37,
     "metadata": {},
     "output_type": "execute_result"
    }
   ],
   "source": [
    "arr = np.array([1,3,5,2,6])\n",
    "\n",
    "# cosine values\n",
    "np.cos(arr)"
   ]
  },
  {
   "cell_type": "code",
   "execution_count": 38,
   "id": "411eb1cd",
   "metadata": {},
   "outputs": [
    {
     "data": {
      "text/plain": [
       "array([0.        , 1.09861229, 1.60943791, 0.69314718, 1.79175947])"
      ]
     },
     "execution_count": 38,
     "metadata": {},
     "output_type": "execute_result"
    }
   ],
   "source": [
    "# logarithmic\n",
    "np.log(arr)"
   ]
  },
  {
   "cell_type": "code",
   "execution_count": 39,
   "id": "388d4848",
   "metadata": {},
   "outputs": [
    {
     "data": {
      "text/plain": [
       "3.4"
      ]
     },
     "execution_count": 39,
     "metadata": {},
     "output_type": "execute_result"
    }
   ],
   "source": [
    "# mean\n",
    "np.mean(arr)"
   ]
  },
  {
   "cell_type": "code",
   "execution_count": 40,
   "id": "f67a22d8",
   "metadata": {},
   "outputs": [
    {
     "data": {
      "text/plain": [
       "3.0"
      ]
     },
     "execution_count": 40,
     "metadata": {},
     "output_type": "execute_result"
    }
   ],
   "source": [
    "# median\n",
    "np.median(arr)"
   ]
  },
  {
   "cell_type": "code",
   "execution_count": 42,
   "id": "62524b6c",
   "metadata": {},
   "outputs": [
    {
     "data": {
      "text/plain": [
       "1.8547236990991407"
      ]
     },
     "execution_count": 42,
     "metadata": {},
     "output_type": "execute_result"
    }
   ],
   "source": [
    "# stnadard deviation\n",
    "np.std(arr)"
   ]
  },
  {
   "cell_type": "code",
   "execution_count": 46,
   "id": "cec6337e",
   "metadata": {},
   "outputs": [
    {
     "data": {
      "text/plain": [
       "array([ 5, 10,  7, 13,  4])"
      ]
     },
     "execution_count": 46,
     "metadata": {},
     "output_type": "execute_result"
    }
   ],
   "source": [
    "# addition of arrays\n",
    "a1 = np.array([2,4,6,8,2])\n",
    "a2 = np.array([3,6,1,5,2])\n",
    "\n",
    "a1 + a2"
   ]
  },
  {
   "cell_type": "code",
   "execution_count": 47,
   "id": "5796ef0c",
   "metadata": {},
   "outputs": [
    {
     "data": {
      "text/plain": [
       "array([-1, -2,  5,  3,  0])"
      ]
     },
     "execution_count": 47,
     "metadata": {},
     "output_type": "execute_result"
    }
   ],
   "source": [
    "# subtraction of arrays\n",
    "a1 = np.array([2,4,6,8,2])\n",
    "a2 = np.array([3,6,1,5,2])\n",
    "\n",
    "a1 - a2"
   ]
  },
  {
   "cell_type": "code",
   "execution_count": 48,
   "id": "4751b9c1",
   "metadata": {},
   "outputs": [
    {
     "data": {
      "text/plain": [
       "array([ 6, 24,  6, 40,  4])"
      ]
     },
     "execution_count": 48,
     "metadata": {},
     "output_type": "execute_result"
    }
   ],
   "source": [
    "# multiply of arrays\n",
    "a1 = np.array([2,4,6,8,2])\n",
    "a2 = np.array([3,6,1,5,2])\n",
    "\n",
    "a1 * a2"
   ]
  },
  {
   "cell_type": "code",
   "execution_count": 53,
   "id": "ff235719",
   "metadata": {},
   "outputs": [
    {
     "data": {
      "text/plain": [
       "array([1., 1., 1., 1.])"
      ]
     },
     "execution_count": 53,
     "metadata": {},
     "output_type": "execute_result"
    }
   ],
   "source": [
    "# create a 1d array that are all 1s\n",
    "arr=np.ones(4)\n",
    "arr"
   ]
  },
  {
   "cell_type": "code",
   "execution_count": 66,
   "id": "aad0ad33",
   "metadata": {},
   "outputs": [
    {
     "data": {
      "text/plain": [
       "array([[1., 1.],\n",
       "       [1., 1.]])"
      ]
     },
     "execution_count": 66,
     "metadata": {},
     "output_type": "execute_result"
    }
   ],
   "source": [
    "# create a 2d array that are all 1s\n",
    "arr=np.ones((2,2))\n",
    "arr"
   ]
  },
  {
   "cell_type": "code",
   "execution_count": 71,
   "id": "9d78ecf3",
   "metadata": {},
   "outputs": [
    {
     "data": {
      "text/plain": [
       "array([[[1., 1.],\n",
       "        [1., 1.]],\n",
       "\n",
       "       [[1., 1.],\n",
       "        [1., 1.]]])"
      ]
     },
     "execution_count": 71,
     "metadata": {},
     "output_type": "execute_result"
    }
   ],
   "source": [
    "# create a 3d array that are all 1s\n",
    "arr=np.ones((2,2,2))\n",
    "# arr=np.zeros((2,2,2))\n",
    "\n",
    "arr"
   ]
  },
  {
   "cell_type": "code",
   "execution_count": 72,
   "id": "f6a60296",
   "metadata": {},
   "outputs": [
    {
     "data": {
      "text/plain": [
       "3"
      ]
     },
     "execution_count": 72,
     "metadata": {},
     "output_type": "execute_result"
    }
   ],
   "source": [
    "# dimension count\n",
    "\n",
    "a = np.array([1,2,3])\n",
    "b = np.array([[1., 1.],[1., 1.]])\n",
    "c = np.array([[[1., 1.],[1., 1.]], [[1., 1.],[1., 1.]]])\n",
    "\n",
    "a.ndim\n",
    "b.ndim\n",
    "c.ndim"
   ]
  },
  {
   "cell_type": "code",
   "execution_count": 78,
   "id": "1fc60e86",
   "metadata": {},
   "outputs": [
    {
     "data": {
      "text/plain": [
       "6"
      ]
     },
     "execution_count": 78,
     "metadata": {},
     "output_type": "execute_result"
    }
   ],
   "source": [
    "# create an n-d array\n",
    "arr = np.array([1,2,3,4],ndmin=6)\n",
    "arr\n",
    "arr.ndim"
   ]
  },
  {
   "cell_type": "code",
   "execution_count": 82,
   "id": "25342fdf",
   "metadata": {},
   "outputs": [
    {
     "data": {
      "text/plain": [
       "array([1, 2, 3, 4, 5, 6])"
      ]
     },
     "execution_count": 82,
     "metadata": {},
     "output_type": "execute_result"
    }
   ],
   "source": [
    "# slicing array\n",
    "arr = np.array([1,2,3,4,5,6,7,8,9,10])\n",
    "arr[0:5]\n",
    "arr[3:]\n",
    "arr[:6]"
   ]
  },
  {
   "cell_type": "code",
   "execution_count": 83,
   "id": "845657ee",
   "metadata": {},
   "outputs": [
    {
     "data": {
      "text/plain": [
       "array([8, 9])"
      ]
     },
     "execution_count": 83,
     "metadata": {},
     "output_type": "execute_result"
    }
   ],
   "source": [
    "# slicing array from right (negative number)\n",
    "arr = np.array([1,2,3,4,5,6,7,8,9,10])\n",
    "arr[-3:-1]"
   ]
  },
  {
   "cell_type": "code",
   "execution_count": 85,
   "id": "0032f679",
   "metadata": {},
   "outputs": [
    {
     "data": {
      "text/plain": [
       "array([6, 7, 8])"
      ]
     },
     "execution_count": 85,
     "metadata": {},
     "output_type": "execute_result"
    }
   ],
   "source": [
    "# slicing 2d arrays\n",
    "arr = np.array([[1,2,3,4,5],[6,7,8,9,10]])\n",
    "arr[1,0:3]"
   ]
  },
  {
   "cell_type": "code",
   "execution_count": 87,
   "id": "4b4b7917",
   "metadata": {},
   "outputs": [
    {
     "name": "stdout",
     "output_type": "stream",
     "text": [
      "[1 2 3 4 5]\n",
      "[42  2  3  4  5]\n"
     ]
    }
   ],
   "source": [
    "# copy and view\n",
    "# copy - owns array, changes made to the copy will not affect orig array\n",
    "# view - does not own array, changes made to view will affect the orig array\n",
    "\n",
    "arr = np.array([1,2,3,4,5])\n",
    "arrcopy = arr.copy()\n",
    "arrcopy[0] = 42\n",
    "\n",
    "print(arr)\n",
    "print(arrcopy)\n"
   ]
  },
  {
   "cell_type": "code",
   "execution_count": 90,
   "id": "aa09d3f8",
   "metadata": {},
   "outputs": [
    {
     "name": "stdout",
     "output_type": "stream",
     "text": [
      "[420   2   3   4   5]\n",
      "[420   2   3   4   5]\n"
     ]
    }
   ],
   "source": [
    "# copy and view\n",
    "# copy - owns array, changes made to the copy will not affect orig array\n",
    "# view - does not own array, changes made to view will affect the orig array\n",
    "\n",
    "arr = np.array([1,2,3,4,5])\n",
    "arrview = arr.view()\n",
    "arr[0] = 420\n",
    "\n",
    "print(arr)\n",
    "print(arrview)"
   ]
  },
  {
   "cell_type": "code",
   "execution_count": 92,
   "id": "441697f3",
   "metadata": {},
   "outputs": [
    {
     "name": "stdout",
     "output_type": "stream",
     "text": [
      "[ 1  2  3  4  5  6  7  8  9 10 11 12]\n",
      "[[ 1  2  3]\n",
      " [ 4  5  6]\n",
      " [ 7  8  9]\n",
      " [10 11 12]]\n"
     ]
    }
   ],
   "source": [
    "# reshaping\n",
    "\n",
    "# convert 1d array with 12 elements --> 2-d array with 3 elements\n",
    "arr = np.array([1,2,3,4,5,6,7,8,9,10,11,12])\n",
    "# 4 arrays with 3 elements each\n",
    "newarr = arr.reshape(4,3)\n",
    "print(arr)\n",
    "print(newarr)"
   ]
  },
  {
   "cell_type": "code",
   "execution_count": 93,
   "id": "4ad7e6ef",
   "metadata": {},
   "outputs": [
    {
     "name": "stdout",
     "output_type": "stream",
     "text": [
      "[ 1  2  3  4  5  6  7  8  9 10 11 12]\n",
      "[[[ 1  2]\n",
      "  [ 3  4]\n",
      "  [ 5  6]]\n",
      "\n",
      " [[ 7  8]\n",
      "  [ 9 10]\n",
      "  [11 12]]]\n"
     ]
    }
   ],
   "source": [
    "# convert 1d array with 12 elements --> 3-d array \n",
    "arr = np.array([1,2,3,4,5,6,7,8,9,10,11,12])\n",
    "# 2 arrays with 3 arrays with 2 elements each\n",
    "newarr = arr.reshape(2,3,2)\n",
    "print(arr)\n",
    "print(newarr)"
   ]
  },
  {
   "cell_type": "code",
   "execution_count": 94,
   "id": "830b9e9a",
   "metadata": {},
   "outputs": [
    {
     "data": {
      "text/plain": [
       "array([1, 2, 3, 4, 5, 6])"
      ]
     },
     "execution_count": 94,
     "metadata": {},
     "output_type": "execute_result"
    }
   ],
   "source": [
    "# joining\n",
    "a = np.array([1,2,3])\n",
    "b = np.array([4,5,6])\n",
    "arr = np.concatenate((a,b))\n",
    "arr"
   ]
  },
  {
   "cell_type": "code",
   "execution_count": 106,
   "id": "8c1fae02",
   "metadata": {},
   "outputs": [
    {
     "name": "stdout",
     "output_type": "stream",
     "text": [
      "arr1:[[1 2]\n",
      " [3 4]\n",
      " [5 6]\n",
      " [7 8]]\n",
      "\n",
      "arr2:[[1 2 5 6]\n",
      " [3 4 7 8]]\n"
     ]
    }
   ],
   "source": [
    "# joining 2 2d array\n",
    "a = np.array([[1,2],[3,4]])\n",
    "b = np.array([[5,6],[7,8]])\n",
    "\n",
    "arr1 = np.concatenate((a,b))\n",
    "arr2 = np.concatenate((a,b),axis=1)\n",
    "\n",
    "print('arr1:' + str(arr1) + '\\n')\n",
    "print('arr2:' + str(arr2))"
   ]
  },
  {
   "cell_type": "code",
   "execution_count": 112,
   "id": "c76318cb",
   "metadata": {},
   "outputs": [
    {
     "name": "stdout",
     "output_type": "stream",
     "text": [
      "[[1 2 3]\n",
      " [4 5 6]\n",
      " [7 8 9]]\n",
      "[1 2 3 4 5 6 7 8 9]\n"
     ]
    }
   ],
   "source": [
    "# Stacking\n",
    "# vertical stack\n",
    "a1 = np.array([1,2,3])\n",
    "a2 = np.array([4,5,6])\n",
    "a3 = np.array([7,8,9])\n",
    "\n",
    "v_arr = np.vstack((a1,a2,a3))\n",
    "h_arr = np.hstack((a1,a2,a3))\n",
    "\n",
    "print(v_arr)\n",
    "print(h_arr)\n"
   ]
  },
  {
   "cell_type": "code",
   "execution_count": 119,
   "id": "2781d8b8",
   "metadata": {},
   "outputs": [
    {
     "data": {
      "text/plain": [
       "[array([1, 2, 3]), array([4, 5]), array([6, 7])]"
      ]
     },
     "execution_count": 119,
     "metadata": {},
     "output_type": "execute_result"
    }
   ],
   "source": [
    "# splitting\n",
    "\n",
    "# split array to 3 parts\n",
    "a = np.array([1,2,3,4,5,6,7])\n",
    "newarr = np.array_split(a,3)\n",
    "newarr\n"
   ]
  },
  {
   "cell_type": "code",
   "execution_count": 123,
   "id": "8b596fbb",
   "metadata": {},
   "outputs": [
    {
     "name": "stdout",
     "output_type": "stream",
     "text": [
      "[array([[1, 2],\n",
      "       [3, 4]]), array([[5, 6],\n",
      "       [7, 8]]), array([[ 9, 10],\n",
      "       [11, 12]])]\n",
      "[[1 2]\n",
      " [3 4]]\n"
     ]
    }
   ],
   "source": [
    "# split the 2-d array into 3 2-d array\n",
    "a = np.array([[1,2],[3,4],[5,6],[7,8],[9,10],[11,12]])\n",
    "newarr = np.array_split(a,3)\n",
    "print(newarr)\n",
    "print(newarr[0])"
   ]
  },
  {
   "cell_type": "code",
   "execution_count": 129,
   "id": "2af8e33e",
   "metadata": {},
   "outputs": [
    {
     "data": {
      "text/plain": [
       "(array([3, 4, 5, 6, 7, 8], dtype=int64),)"
      ]
     },
     "execution_count": 129,
     "metadata": {},
     "output_type": "execute_result"
    }
   ],
   "source": [
    "# searching\n",
    "\n",
    "# find index of a value\n",
    "arr = np.array([1,2,3,4,5,6,7,8,9])\n",
    "# x = np.where(arr==4)\n",
    "x = np.where(arr>=4)      # output index position\n",
    "x\n"
   ]
  },
  {
   "cell_type": "code",
   "execution_count": 142,
   "id": "6edf6d19",
   "metadata": {},
   "outputs": [
    {
     "data": {
      "text/plain": [
       "(array([0], dtype=int64),)"
      ]
     },
     "execution_count": 142,
     "metadata": {},
     "output_type": "execute_result"
    }
   ],
   "source": [
    "arr = np.array(['ford','toyota','honda'])\n",
    "x = np.where(arr=='ford')\n",
    "x"
   ]
  },
  {
   "cell_type": "code",
   "execution_count": 144,
   "id": "5cb22bef",
   "metadata": {},
   "outputs": [
    {
     "data": {
      "text/plain": [
       "(array([1, 3, 5, 7], dtype=int64),)"
      ]
     },
     "execution_count": 144,
     "metadata": {},
     "output_type": "execute_result"
    }
   ],
   "source": [
    "# example finding even number\n",
    "arr = np.array([1,2,3,4,5,6,7,8,9])\n",
    "x = np.where(arr%2==0)\n",
    "x"
   ]
  },
  {
   "cell_type": "code",
   "execution_count": 146,
   "id": "51be9166",
   "metadata": {},
   "outputs": [
    {
     "data": {
      "text/plain": [
       "array(['black', 'blue', 'green', 'red'], dtype='<U5')"
      ]
     },
     "execution_count": 146,
     "metadata": {},
     "output_type": "execute_result"
    }
   ],
   "source": [
    "# sorting\n",
    "# arr = np.array([3,5,1,6,4])\n",
    "arr = np.array(['red','blue','green','black'])\n",
    "np.sort(arr)"
   ]
  },
  {
   "cell_type": "code",
   "execution_count": 154,
   "id": "9fcdc5fd",
   "metadata": {},
   "outputs": [
    {
     "name": "stdout",
     "output_type": "stream",
     "text": [
      "[7 7 7 9 5 3 7 3 7 7 9 5 9 3 5 5 3 7 5 3 5 9 9 5 5 5 9 7 5 5 5 5 7 7 5 7 9\n",
      " 3 7 5 3 7 7 7 5 7 5 5 7 9 5 7 7 7 7 9 9 7 7 7 9 3 7 7 5 7 7 3 5 7 7 5 9 9\n",
      " 7 7 3 7 7 7 7 7 5 7 7 7 5 7 7 7 7 7 7 5 5 7 9 7 7 9]\n",
      "[[7 7 7 7 3]\n",
      " [7 9 5 7 5]\n",
      " [5 5 7 5 7]]\n"
     ]
    }
   ],
   "source": [
    "# populating values (data distribution)\n",
    "\n",
    "# generate random numbers \n",
    "\n",
    "# gen 100 numbers, 1-d array, values: 3,5,7,9 \n",
    "# 3 = .1, 5 = .3, 7 = .6 , 9 = 0\n",
    "\n",
    "from numpy import random, array\n",
    "x = random.choice([3,5,7,9],p=[0.1,0.3,0.5,0.1],size=(100))\n",
    "\n",
    "# 2d array 3 rows and 5 values\n",
    "y = random.choice([3,5,7,9],p=[0.1,0.3,0.5,0.1],size=(3,5))\n",
    "\n",
    "print(x)\n",
    "print(y)"
   ]
  },
  {
   "cell_type": "code",
   "execution_count": null,
   "id": "16d4c66c",
   "metadata": {},
   "outputs": [],
   "source": []
  }
 ],
 "metadata": {
  "kernelspec": {
   "display_name": "Python 3 (ipykernel)",
   "language": "python",
   "name": "python3"
  },
  "language_info": {
   "codemirror_mode": {
    "name": "ipython",
    "version": 3
   },
   "file_extension": ".py",
   "mimetype": "text/x-python",
   "name": "python",
   "nbconvert_exporter": "python",
   "pygments_lexer": "ipython3",
   "version": "3.10.4"
  }
 },
 "nbformat": 4,
 "nbformat_minor": 5
}
