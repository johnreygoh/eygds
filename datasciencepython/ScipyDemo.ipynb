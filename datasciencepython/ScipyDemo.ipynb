{
 "cells": [
  {
   "cell_type": "markdown",
   "id": "fff11827",
   "metadata": {},
   "source": [
    "https://scipy.org/"
   ]
  },
  {
   "cell_type": "code",
   "execution_count": 19,
   "id": "8891dbb4",
   "metadata": {},
   "outputs": [
    {
     "name": "stdout",
     "output_type": "stream",
     "text": [
      "25\n"
     ]
    }
   ],
   "source": [
    "# demo of python lambda expression\n",
    "# lambda aruguments: expression\n",
    "\n",
    "# lambda get sq \n",
    "sqr = lambda a: a*a\n",
    "print(sqr(5))"
   ]
  },
  {
   "cell_type": "code",
   "execution_count": 20,
   "id": "5cb1d3b1",
   "metadata": {},
   "outputs": [
    {
     "data": {
      "text/plain": [
       "39"
      ]
     },
     "execution_count": 20,
     "metadata": {},
     "output_type": "execute_result"
    }
   ],
   "source": [
    "# lambda demo2\n",
    "# add 3 numbers\n",
    "ans = lambda x,y,z: x+y+z\n",
    "ans(12,13,14)"
   ]
  },
  {
   "cell_type": "code",
   "execution_count": 21,
   "id": "dd8a5038",
   "metadata": {},
   "outputs": [],
   "source": [
    "# demo scipy optimization\n",
    "\n",
    "# we have a box, we want to maximize the volume \n",
    "# by changing the length-width-height\n",
    "# but we want to maintain surface area of the box less than 10 (sa <= 10)\n",
    "\n",
    "# volume\n",
    "# V = LxWxH\n",
    "\n",
    "# surface area\n",
    "# SA = (2xLxW) + (2xLxH) + (2xWxH)"
   ]
  },
  {
   "cell_type": "code",
   "execution_count": 22,
   "id": "621c4ce6",
   "metadata": {},
   "outputs": [],
   "source": [
    "import numpy as np\n",
    "from scipy.optimize import minimize"
   ]
  },
  {
   "cell_type": "code",
   "execution_count": 23,
   "id": "5514e3e4",
   "metadata": {},
   "outputs": [],
   "source": [
    "# define a function to compute the volume\n",
    "def calcVolume(x):\n",
    "    length = x[0]\n",
    "    width = x[1]\n",
    "    height = x[2]\n",
    "    volume = length * width * height\n",
    "    return volume"
   ]
  },
  {
   "cell_type": "code",
   "execution_count": 24,
   "id": "4ff477fc",
   "metadata": {},
   "outputs": [],
   "source": [
    "# define a function to compute surface area\n",
    "def calcSurface(x):\n",
    "    length = x[0]\n",
    "    width = x[1]\n",
    "    height = x[2]\n",
    "    surfaceArea = 2*length*width + 2*length*height + 2*width*height\n",
    "    return surfaceArea"
   ]
  },
  {
   "cell_type": "code",
   "execution_count": 25,
   "id": "691e7f36",
   "metadata": {},
   "outputs": [],
   "source": [
    "# function for objective\n",
    "# optimized values we will try to minimize\n",
    "# we return a negative number, by minimizing the negative value, \n",
    "# we can maximize the volume of the box  \n",
    "def objective(x):\n",
    "    return -calcVolume(x)"
   ]
  },
  {
   "cell_type": "code",
   "execution_count": 26,
   "id": "5f0909b1",
   "metadata": {},
   "outputs": [],
   "source": [
    "# create a function that define constraints\n",
    "def constraints(x):\n",
    "    ans = 10-calcSurface(x)\n",
    "    return ans"
   ]
  },
  {
   "cell_type": "code",
   "execution_count": 37,
   "id": "a744c56e",
   "metadata": {},
   "outputs": [],
   "source": [
    "# scipy constraints library (dictionary)\n",
    "cons = ({'type':'ineq','fun':constraints})"
   ]
  },
  {
   "cell_type": "code",
   "execution_count": 38,
   "id": "cae98933",
   "metadata": {},
   "outputs": [],
   "source": [
    "# set initial guesses\n",
    "lengthGuess = 1\n",
    "widthGuess = 1\n",
    "heightGuess = 1\n",
    "\n",
    "x0 = np.array([lengthGuess,widthGuess,heightGuess])\n"
   ]
  },
  {
   "cell_type": "code",
   "execution_count": 39,
   "id": "837ef971",
   "metadata": {},
   "outputs": [
    {
     "name": "stdout",
     "output_type": "stream",
     "text": [
      "Optimization terminated successfully    (Exit mode 0)\n",
      "            Current function value: -2.151657414467269\n",
      "            Iterations: 4\n",
      "            Function evaluations: 17\n",
      "            Gradient evaluations: 4\n"
     ]
    }
   ],
   "source": [
    "# call the scipy.optimize minimize function to solve this equation\n",
    "sol = minimize(objective,x0,method='SLSQP',constraints=cons,options={'disp':True})"
   ]
  },
  {
   "cell_type": "code",
   "execution_count": 41,
   "id": "35dabc6d",
   "metadata": {},
   "outputs": [],
   "source": [
    "# retrieve optimized box sizing and volume\n",
    "xOpt = sol.x\n",
    "volumeOpt = -sol.fun"
   ]
  },
  {
   "cell_type": "code",
   "execution_count": 42,
   "id": "38e9ca7c",
   "metadata": {},
   "outputs": [
    {
     "name": "stdout",
     "output_type": "stream",
     "text": [
      "9.999999999713689\n"
     ]
    }
   ],
   "source": [
    "# calc surface area with optimized values within the boundaries\n",
    "surfaceAreaOpt = calcSurface(xOpt)\n",
    "print(surfaceAreaOpt)"
   ]
  },
  {
   "cell_type": "code",
   "execution_count": 44,
   "id": "d99f34b5",
   "metadata": {},
   "outputs": [
    {
     "name": "stdout",
     "output_type": "stream",
     "text": [
      "length:1.290994\n",
      "width:1.290994\n",
      "height:1.290994\n",
      "volume:2.151657\n",
      "surface area:9.999999999713689\n"
     ]
    }
   ],
   "source": [
    "# values \n",
    "print('length:%f' %(xOpt[0]))\n",
    "print('width:%f' %(xOpt[1]))\n",
    "print('height:%f' %(xOpt[2]))\n",
    "print('volume:%f' %(volumeOpt))\n",
    "print('surface area:%s' %(str(surfaceAreaOpt)))\n"
   ]
  },
  {
   "cell_type": "code",
   "execution_count": null,
   "id": "0d617dc2",
   "metadata": {},
   "outputs": [],
   "source": []
  }
 ],
 "metadata": {
  "kernelspec": {
   "display_name": "Python 3 (ipykernel)",
   "language": "python",
   "name": "python3"
  },
  "language_info": {
   "codemirror_mode": {
    "name": "ipython",
    "version": 3
   },
   "file_extension": ".py",
   "mimetype": "text/x-python",
   "name": "python",
   "nbconvert_exporter": "python",
   "pygments_lexer": "ipython3",
   "version": "3.10.4"
  }
 },
 "nbformat": 4,
 "nbformat_minor": 5
}
