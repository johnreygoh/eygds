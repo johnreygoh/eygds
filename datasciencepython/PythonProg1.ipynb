{
 "cells": [
  {
   "cell_type": "markdown",
   "id": "7b58df1f",
   "metadata": {},
   "source": [
    "Python Basics"
   ]
  },
  {
   "cell_type": "code",
   "execution_count": 11,
   "id": "c567c0b2",
   "metadata": {},
   "outputs": [
    {
     "data": {
      "text/plain": [
       "236.0"
      ]
     },
     "execution_count": 11,
     "metadata": {},
     "output_type": "execute_result"
    }
   ],
   "source": [
    "# conversion data type\n",
    "grades = \"236\"\n",
    "type(grades)\n",
    "\n",
    "# str(),int(),float(),list(),tuple(),set(),dictionary()\n",
    "float(grades)"
   ]
  },
  {
   "cell_type": "code",
   "execution_count": 2,
   "id": "d5790e49",
   "metadata": {},
   "outputs": [
    {
     "name": "stdout",
     "output_type": "stream",
     "text": [
      "70\n"
     ]
    }
   ],
   "source": [
    "# arithmetic + - / *\n",
    "# PEMDAS\n",
    "x=(12+2)*5\n",
    "print(x)"
   ]
  },
  {
   "cell_type": "code",
   "execution_count": 8,
   "id": "e817da00",
   "metadata": {},
   "outputs": [
    {
     "data": {
      "text/plain": [
       "'My name is Mary Joe.I am 45 yrs old.'"
      ]
     },
     "execution_count": 8,
     "metadata": {},
     "output_type": "execute_result"
    }
   ],
   "source": [
    "# string formatting\n",
    "firstname = \"Mary\"\n",
    "lastname = \"Joe\"\n",
    "firstname + \" \" + lastname\n",
    "age=45\n",
    "# print(firstname + \" \" + lastname)\n",
    "# print(\"My name is {} {}\".format(firstname,lastname) )\n",
    "# print(\"My name is %s %s. I am %i yrs old.\" %(firstname,lastname,age))\n",
    "# print(\"My name is {0} {1}. {1} is my lastname\".format(firstname,lastname) )\n",
    "# print(f\"My name is {firstname} {lastname}. I am {age} years old.\")\n",
    "\n",
    "\"My name is \" + firstname + \" \" + lastname + \".I am \" + str(age) + \" yrs old.\" "
   ]
  },
  {
   "cell_type": "code",
   "execution_count": 49,
   "id": "c833f2b7",
   "metadata": {},
   "outputs": [
    {
     "data": {
      "text/plain": [
       "0"
      ]
     },
     "execution_count": 49,
     "metadata": {},
     "output_type": "execute_result"
    }
   ],
   "source": [
    "# string functions\n",
    "# case modification\n",
    "mystring = '   house  '\n",
    "mystring.upper()\n",
    "mystring.lower()\n",
    "mystring.capitalize()\n",
    "\n",
    "# isalpha() isnumeric()\n",
    "mystring.isalpha()\n",
    "mystring.isnumeric()\n",
    "\n",
    "# count string chars and demo strip whitespaces\n",
    "len(mystring.strip())\n",
    "\n",
    "# using multiple functions\n",
    "mystring.strip().replace(\"h\",\"m\").upper()\n",
    "\n",
    "# find() has init index 0\n",
    "mystring.strip().find('h')\n"
   ]
  },
  {
   "cell_type": "code",
   "execution_count": 50,
   "id": "e6a3edf4",
   "metadata": {},
   "outputs": [
    {
     "name": "stdout",
     "output_type": "stream",
     "text": [
      "enter you name:12\n"
     ]
    },
    {
     "data": {
      "text/plain": [
       "str"
      ]
     },
     "execution_count": 50,
     "metadata": {},
     "output_type": "execute_result"
    }
   ],
   "source": [
    "# ask user input. all input data types are string\n",
    "myname = input(\"enter you name:\")\n",
    "type(myname)\n"
   ]
  },
  {
   "cell_type": "code",
   "execution_count": 47,
   "id": "0ea07c73",
   "metadata": {},
   "outputs": [
    {
     "name": "stdout",
     "output_type": "stream",
     "text": [
      "number 1:13\n",
      "number 2:23\n"
     ]
    },
    {
     "data": {
      "text/plain": [
       "'36'"
      ]
     },
     "execution_count": 47,
     "metadata": {},
     "output_type": "execute_result"
    }
   ],
   "source": [
    "x = input('number 1:')\n",
    "y = input('number 2:')\n",
    "str(int(x) + int(y))"
   ]
  },
  {
   "cell_type": "code",
   "execution_count": 51,
   "id": "76a9ad0b",
   "metadata": {},
   "outputs": [
    {
     "data": {
      "text/plain": [
       "['__add__',\n",
       " '__class__',\n",
       " '__contains__',\n",
       " '__delattr__',\n",
       " '__dir__',\n",
       " '__doc__',\n",
       " '__eq__',\n",
       " '__format__',\n",
       " '__ge__',\n",
       " '__getattribute__',\n",
       " '__getitem__',\n",
       " '__getnewargs__',\n",
       " '__gt__',\n",
       " '__hash__',\n",
       " '__init__',\n",
       " '__init_subclass__',\n",
       " '__iter__',\n",
       " '__le__',\n",
       " '__len__',\n",
       " '__lt__',\n",
       " '__mod__',\n",
       " '__mul__',\n",
       " '__ne__',\n",
       " '__new__',\n",
       " '__reduce__',\n",
       " '__reduce_ex__',\n",
       " '__repr__',\n",
       " '__rmod__',\n",
       " '__rmul__',\n",
       " '__setattr__',\n",
       " '__sizeof__',\n",
       " '__str__',\n",
       " '__subclasshook__',\n",
       " 'capitalize',\n",
       " 'casefold',\n",
       " 'center',\n",
       " 'count',\n",
       " 'encode',\n",
       " 'endswith',\n",
       " 'expandtabs',\n",
       " 'find',\n",
       " 'format',\n",
       " 'format_map',\n",
       " 'index',\n",
       " 'isalnum',\n",
       " 'isalpha',\n",
       " 'isascii',\n",
       " 'isdecimal',\n",
       " 'isdigit',\n",
       " 'isidentifier',\n",
       " 'islower',\n",
       " 'isnumeric',\n",
       " 'isprintable',\n",
       " 'isspace',\n",
       " 'istitle',\n",
       " 'isupper',\n",
       " 'join',\n",
       " 'ljust',\n",
       " 'lower',\n",
       " 'lstrip',\n",
       " 'maketrans',\n",
       " 'partition',\n",
       " 'removeprefix',\n",
       " 'removesuffix',\n",
       " 'replace',\n",
       " 'rfind',\n",
       " 'rindex',\n",
       " 'rjust',\n",
       " 'rpartition',\n",
       " 'rsplit',\n",
       " 'rstrip',\n",
       " 'split',\n",
       " 'splitlines',\n",
       " 'startswith',\n",
       " 'strip',\n",
       " 'swapcase',\n",
       " 'title',\n",
       " 'translate',\n",
       " 'upper',\n",
       " 'zfill']"
      ]
     },
     "execution_count": 51,
     "metadata": {},
     "output_type": "execute_result"
    }
   ],
   "source": [
    "# check the functions in the object or library\n",
    "samplestring = \"hello\"\n",
    "dir(samplestring)"
   ]
  },
  {
   "cell_type": "markdown",
   "id": "4c6f1acb",
   "metadata": {},
   "source": [
    "Number Functions"
   ]
  },
  {
   "cell_type": "code",
   "execution_count": 48,
   "id": "3c4a3420",
   "metadata": {},
   "outputs": [
    {
     "data": {
      "text/plain": [
       "['__doc__',\n",
       " '__loader__',\n",
       " '__name__',\n",
       " '__package__',\n",
       " '__spec__',\n",
       " 'acos',\n",
       " 'acosh',\n",
       " 'asin',\n",
       " 'asinh',\n",
       " 'atan',\n",
       " 'atan2',\n",
       " 'atanh',\n",
       " 'ceil',\n",
       " 'comb',\n",
       " 'copysign',\n",
       " 'cos',\n",
       " 'cosh',\n",
       " 'degrees',\n",
       " 'dist',\n",
       " 'e',\n",
       " 'erf',\n",
       " 'erfc',\n",
       " 'exp',\n",
       " 'expm1',\n",
       " 'fabs',\n",
       " 'factorial',\n",
       " 'floor',\n",
       " 'fmod',\n",
       " 'frexp',\n",
       " 'fsum',\n",
       " 'gamma',\n",
       " 'gcd',\n",
       " 'hypot',\n",
       " 'inf',\n",
       " 'isclose',\n",
       " 'isfinite',\n",
       " 'isinf',\n",
       " 'isnan',\n",
       " 'isqrt',\n",
       " 'lcm',\n",
       " 'ldexp',\n",
       " 'lgamma',\n",
       " 'log',\n",
       " 'log10',\n",
       " 'log1p',\n",
       " 'log2',\n",
       " 'modf',\n",
       " 'nan',\n",
       " 'nextafter',\n",
       " 'perm',\n",
       " 'pi',\n",
       " 'pow',\n",
       " 'prod',\n",
       " 'radians',\n",
       " 'remainder',\n",
       " 'sin',\n",
       " 'sinh',\n",
       " 'sqrt',\n",
       " 'tan',\n",
       " 'tanh',\n",
       " 'tau',\n",
       " 'trunc',\n",
       " 'ulp']"
      ]
     },
     "execution_count": 48,
     "metadata": {},
     "output_type": "execute_result"
    }
   ],
   "source": [
    "# no need to install math library, just call \n",
    "import math\n",
    "\n",
    "# show all functions in a library / object\n",
    "dir(math)"
   ]
  },
  {
   "cell_type": "code",
   "execution_count": 53,
   "id": "d9143049",
   "metadata": {},
   "outputs": [
    {
     "data": {
      "text/plain": [
       "12"
      ]
     },
     "execution_count": 53,
     "metadata": {},
     "output_type": "execute_result"
    }
   ],
   "source": [
    "# ceil, floor\n",
    "mynum = 12.34567\n",
    "\n",
    "# ceil smallest integer not less than the given\n",
    "math.ceil(mynum)\n",
    "\n",
    "# floor largest integer not greater than the given\n",
    "math.floor(mynum)\n"
   ]
  },
  {
   "cell_type": "code",
   "execution_count": 55,
   "id": "1765de0d",
   "metadata": {},
   "outputs": [
    {
     "data": {
      "text/plain": [
       "3435"
      ]
     },
     "execution_count": 55,
     "metadata": {},
     "output_type": "execute_result"
    }
   ],
   "source": [
    "# dataset with numbers using min max\n",
    "min(12,2,3435,56,8,9,20)\n",
    "max(12,2,3435,56,8,9,20)"
   ]
  },
  {
   "cell_type": "code",
   "execution_count": 65,
   "id": "8e4a5d60",
   "metadata": {},
   "outputs": [
    {
     "data": {
      "text/plain": [
       "91"
      ]
     },
     "execution_count": 65,
     "metadata": {},
     "output_type": "execute_result"
    }
   ],
   "source": [
    "# use random\n",
    "import random\n",
    "# r = random.random() * 10\n",
    "r = random.randrange(3,100)\n",
    "r"
   ]
  },
  {
   "cell_type": "code",
   "execution_count": 66,
   "id": "d27a6281",
   "metadata": {},
   "outputs": [
    {
     "data": {
      "text/plain": [
       "151"
      ]
     },
     "execution_count": 66,
     "metadata": {},
     "output_type": "execute_result"
    }
   ],
   "source": [
    "# use random\n",
    "import random\n",
    "\n",
    "a = min(12,234,543,66,86)\n",
    "b = max(12,234,543,66,86)\n",
    "\n",
    "r = random.randrange(a,b)\n",
    "r"
   ]
  },
  {
   "cell_type": "code",
   "execution_count": 69,
   "id": "36113010",
   "metadata": {},
   "outputs": [
    {
     "data": {
      "text/plain": [
       "3"
      ]
     },
     "execution_count": 69,
     "metadata": {},
     "output_type": "execute_result"
    }
   ],
   "source": [
    "import myfunctions as mp\n",
    "mp.getsum(1,2)"
   ]
  },
  {
   "cell_type": "code",
   "execution_count": 70,
   "id": "682c874a",
   "metadata": {},
   "outputs": [
    {
     "data": {
      "text/plain": [
       "['__builtins__',\n",
       " '__cached__',\n",
       " '__doc__',\n",
       " '__file__',\n",
       " '__loader__',\n",
       " '__name__',\n",
       " '__package__',\n",
       " '__spec__',\n",
       " 'getprod',\n",
       " 'getsum']"
      ]
     },
     "execution_count": 70,
     "metadata": {},
     "output_type": "execute_result"
    }
   ],
   "source": [
    "dir(myfunctions)"
   ]
  },
  {
   "cell_type": "code",
   "execution_count": null,
   "id": "ae82e972",
   "metadata": {},
   "outputs": [],
   "source": []
  }
 ],
 "metadata": {
  "kernelspec": {
   "display_name": "Python 3 (ipykernel)",
   "language": "python",
   "name": "python3"
  },
  "language_info": {
   "codemirror_mode": {
    "name": "ipython",
    "version": 3
   },
   "file_extension": ".py",
   "mimetype": "text/x-python",
   "name": "python",
   "nbconvert_exporter": "python",
   "pygments_lexer": "ipython3",
   "version": "3.10.4"
  }
 },
 "nbformat": 4,
 "nbformat_minor": 5
}
