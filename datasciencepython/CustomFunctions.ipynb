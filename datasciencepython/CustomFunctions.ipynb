{
 "cells": [
  {
   "cell_type": "markdown",
   "id": "9bec8e53",
   "metadata": {},
   "source": [
    "Custom Functions"
   ]
  },
  {
   "cell_type": "code",
   "execution_count": 1,
   "id": "7987bd42",
   "metadata": {},
   "outputs": [],
   "source": [
    "# create a function that outputs a greeting \n",
    "# without arguments / parameters\n",
    "def greetme():\n",
    "    x = \"hi there\"\n",
    "    # action to do when you run this function\n",
    "    print(x)"
   ]
  },
  {
   "cell_type": "code",
   "execution_count": 2,
   "id": "4cc0cd4c",
   "metadata": {},
   "outputs": [
    {
     "name": "stdout",
     "output_type": "stream",
     "text": [
      "hi there\n"
     ]
    }
   ],
   "source": [
    "greetme()"
   ]
  },
  {
   "cell_type": "code",
   "execution_count": 3,
   "id": "4628fb41",
   "metadata": {},
   "outputs": [],
   "source": [
    "# create a function that returns a value\n",
    "# function with argument / parameter\n",
    "def addme(num1,num2):\n",
    "    myanswer = num1 + num2\n",
    "    return myanswer"
   ]
  },
  {
   "cell_type": "code",
   "execution_count": 4,
   "id": "26f3f7b1",
   "metadata": {},
   "outputs": [
    {
     "data": {
      "text/plain": [
       "36"
      ]
     },
     "execution_count": 4,
     "metadata": {},
     "output_type": "execute_result"
    }
   ],
   "source": [
    "addme(12,24)"
   ]
  },
  {
   "cell_type": "code",
   "execution_count": 10,
   "id": "ca03e02f",
   "metadata": {},
   "outputs": [
    {
     "data": {
      "text/plain": [
       "62700"
      ]
     },
     "execution_count": 10,
     "metadata": {},
     "output_type": "execute_result"
    }
   ],
   "source": [
    "# netpay = ?\n",
    "deduc1 = 2000\n",
    "deduc2 = 1300\n",
    "grossp = 66000\n",
    "\n",
    "netp = grossp - addme(deduc1, deduc2)\n",
    "netp"
   ]
  },
  {
   "cell_type": "code",
   "execution_count": null,
   "id": "e69ad093",
   "metadata": {},
   "outputs": [],
   "source": []
  }
 ],
 "metadata": {
  "kernelspec": {
   "display_name": "Python 3 (ipykernel)",
   "language": "python",
   "name": "python3"
  },
  "language_info": {
   "codemirror_mode": {
    "name": "ipython",
    "version": 3
   },
   "file_extension": ".py",
   "mimetype": "text/x-python",
   "name": "python",
   "nbconvert_exporter": "python",
   "pygments_lexer": "ipython3",
   "version": "3.10.4"
  }
 },
 "nbformat": 4,
 "nbformat_minor": 5
}
