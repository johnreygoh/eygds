{
 "cells": [
  {
   "cell_type": "markdown",
   "id": "18dfb2eb",
   "metadata": {},
   "source": [
    "List (mutable / editable)"
   ]
  },
  {
   "cell_type": "code",
   "execution_count": 45,
   "id": "ff11011b",
   "metadata": {},
   "outputs": [
    {
     "data": {
      "text/plain": [
       "['apple', 'banana', 'cherry']"
      ]
     },
     "execution_count": 45,
     "metadata": {},
     "output_type": "execute_result"
    }
   ],
   "source": [
    "# create a list using square brackets\n",
    "a = ['apple','banana','cherry']\n",
    "a\n",
    "# type(a)"
   ]
  },
  {
   "cell_type": "code",
   "execution_count": 2,
   "id": "fe031cd8",
   "metadata": {},
   "outputs": [
    {
     "data": {
      "text/plain": [
       "'banana'"
      ]
     },
     "execution_count": 2,
     "metadata": {},
     "output_type": "execute_result"
    }
   ],
   "source": [
    "a[1]"
   ]
  },
  {
   "cell_type": "code",
   "execution_count": 3,
   "id": "e2a20946",
   "metadata": {},
   "outputs": [
    {
     "data": {
      "text/plain": [
       "['apple', 'banana', 'cherry', 'durian']"
      ]
     },
     "execution_count": 3,
     "metadata": {},
     "output_type": "execute_result"
    }
   ],
   "source": [
    "# add item\n",
    "a.append('durian')\n",
    "a"
   ]
  },
  {
   "cell_type": "code",
   "execution_count": 5,
   "id": "f6088202",
   "metadata": {},
   "outputs": [
    {
     "data": {
      "text/plain": [
       "['banana', 'cherry', 'durian']"
      ]
     },
     "execution_count": 5,
     "metadata": {},
     "output_type": "execute_result"
    }
   ],
   "source": [
    "# remove item\n",
    "a.remove('apple')\n",
    "a"
   ]
  },
  {
   "cell_type": "code",
   "execution_count": 8,
   "id": "0277d1b0",
   "metadata": {},
   "outputs": [
    {
     "data": {
      "text/plain": [
       "['apple', 'banana']"
      ]
     },
     "execution_count": 8,
     "metadata": {},
     "output_type": "execute_result"
    }
   ],
   "source": [
    "# remove last item\n",
    "a = ['apple','banana','cherry']\n",
    "a.pop()\n",
    "a"
   ]
  },
  {
   "cell_type": "code",
   "execution_count": 9,
   "id": "6e5ee3f9",
   "metadata": {},
   "outputs": [
    {
     "data": {
      "text/plain": [
       "['apple', 'cherry']"
      ]
     },
     "execution_count": 9,
     "metadata": {},
     "output_type": "execute_result"
    }
   ],
   "source": [
    "# remove item by position\n",
    "a = ['apple','banana','cherry']\n",
    "a.pop(1)\n",
    "a"
   ]
  },
  {
   "cell_type": "code",
   "execution_count": 11,
   "id": "9dcb14a6",
   "metadata": {},
   "outputs": [
    {
     "data": {
      "text/plain": [
       "[12, 23, 43, 56, 98]"
      ]
     },
     "execution_count": 11,
     "metadata": {},
     "output_type": "execute_result"
    }
   ],
   "source": [
    "a = [12,23,43,56,768,98]\n",
    "a.remove(max(a))\n",
    "a"
   ]
  },
  {
   "cell_type": "code",
   "execution_count": 14,
   "id": "f4eda913",
   "metadata": {},
   "outputs": [
    {
     "name": "stdout",
     "output_type": "stream",
     "text": [
      "number of items in the list: 6\n"
     ]
    }
   ],
   "source": [
    "a = [12,23,43,56,768,98]\n",
    "print('number of items in the list: %i'  %(len(a)))"
   ]
  },
  {
   "cell_type": "code",
   "execution_count": 16,
   "id": "456c4df5",
   "metadata": {},
   "outputs": [
    {
     "data": {
      "text/plain": [
       "['__add__',\n",
       " '__class__',\n",
       " '__class_getitem__',\n",
       " '__contains__',\n",
       " '__delattr__',\n",
       " '__delitem__',\n",
       " '__dir__',\n",
       " '__doc__',\n",
       " '__eq__',\n",
       " '__format__',\n",
       " '__ge__',\n",
       " '__getattribute__',\n",
       " '__getitem__',\n",
       " '__gt__',\n",
       " '__hash__',\n",
       " '__iadd__',\n",
       " '__imul__',\n",
       " '__init__',\n",
       " '__init_subclass__',\n",
       " '__iter__',\n",
       " '__le__',\n",
       " '__len__',\n",
       " '__lt__',\n",
       " '__mul__',\n",
       " '__ne__',\n",
       " '__new__',\n",
       " '__reduce__',\n",
       " '__reduce_ex__',\n",
       " '__repr__',\n",
       " '__reversed__',\n",
       " '__rmul__',\n",
       " '__setattr__',\n",
       " '__setitem__',\n",
       " '__sizeof__',\n",
       " '__str__',\n",
       " '__subclasshook__',\n",
       " 'append',\n",
       " 'clear',\n",
       " 'copy',\n",
       " 'count',\n",
       " 'extend',\n",
       " 'index',\n",
       " 'insert',\n",
       " 'pop',\n",
       " 'remove',\n",
       " 'reverse',\n",
       " 'sort']"
      ]
     },
     "execution_count": 16,
     "metadata": {},
     "output_type": "execute_result"
    }
   ],
   "source": [
    "a = [12,23,43,56,768,98]\n",
    "dir(a)"
   ]
  },
  {
   "cell_type": "code",
   "execution_count": 20,
   "id": "d4c52307",
   "metadata": {},
   "outputs": [
    {
     "data": {
      "text/plain": [
       "1"
      ]
     },
     "execution_count": 20,
     "metadata": {},
     "output_type": "execute_result"
    }
   ],
   "source": [
    "# find the index position\n",
    "a = [12,23,43,56,768,98]\n",
    "a.index(23)"
   ]
  },
  {
   "cell_type": "code",
   "execution_count": 22,
   "id": "2238562f",
   "metadata": {},
   "outputs": [
    {
     "data": {
      "text/plain": [
       "[12, 23, 43, 56, 768, 98, 100, 101]"
      ]
     },
     "execution_count": 22,
     "metadata": {},
     "output_type": "execute_result"
    }
   ],
   "source": [
    "# adding more than 1 item\n",
    "a = [12,23,43,56,768,98]\n",
    "b = [100,101]\n",
    "c = a + b\n",
    "c"
   ]
  },
  {
   "cell_type": "code",
   "execution_count": 25,
   "id": "3038eff2",
   "metadata": {},
   "outputs": [
    {
     "data": {
      "text/plain": [
       "[12, 23, 5, 43, 56, 768, 98]"
      ]
     },
     "execution_count": 25,
     "metadata": {},
     "output_type": "execute_result"
    }
   ],
   "source": [
    "# insert an item in index\n",
    "a = [12,23,43,56,768,98]\n",
    "a.insert(2,5)\n",
    "a"
   ]
  },
  {
   "cell_type": "code",
   "execution_count": 27,
   "id": "404e94d1",
   "metadata": {},
   "outputs": [
    {
     "name": "stdout",
     "output_type": "stream",
     "text": [
      "enter value to update:768\n",
      "enter new value:76\n"
     ]
    },
    {
     "data": {
      "text/plain": [
       "[12, 23, 43, 56, 76, 98]"
      ]
     },
     "execution_count": 27,
     "metadata": {},
     "output_type": "execute_result"
    }
   ],
   "source": [
    "# update based on position\n",
    "a = [12,23,43,56,768,98]\n",
    "toupdate = int(input('enter value to update:'))\n",
    "newnumber = int(input('enter new value:'))\n",
    "\n",
    "a.insert(a.index(toupdate),newnumber)\n",
    "a.remove(toupdate)\n",
    "a"
   ]
  },
  {
   "cell_type": "code",
   "execution_count": 28,
   "id": "bd0ee0e2",
   "metadata": {},
   "outputs": [
    {
     "name": "stdout",
     "output_type": "stream",
     "text": [
      "item:12\n",
      "item:23\n",
      "item:43\n",
      "item:56\n",
      "item:768\n",
      "item:98\n"
     ]
    }
   ],
   "source": [
    "# perform action each item\n",
    "a = [12,23,43,56,768,98]\n",
    "\n",
    "for n in a:\n",
    "    print('item:' + str(n))"
   ]
  },
  {
   "cell_type": "code",
   "execution_count": 29,
   "id": "8284dfb5",
   "metadata": {},
   "outputs": [
    {
     "name": "stdout",
     "output_type": "stream",
     "text": [
      "item 1: 1200\n",
      "item 2: 2300\n",
      "item 3: 4300\n",
      "item 4: 5600\n",
      "item 5: 76800\n",
      "item 6: 9800\n"
     ]
    }
   ],
   "source": [
    "# perform action each item\n",
    "# add numbering, each item multiplied by 100\n",
    "a = [12,23,43,56,768,98]\n",
    "counting = 1\n",
    "for n in a:\n",
    "    print('item %i: %i' %(counting,n*100))\n",
    "    # counting = counting + 1\n",
    "    counting += 1"
   ]
  },
  {
   "cell_type": "code",
   "execution_count": 35,
   "id": "90ddecaa",
   "metadata": {},
   "outputs": [
    {
     "data": {
      "text/plain": [
       "[24, 46, 86, 112, 1536, 196]"
      ]
     },
     "execution_count": 35,
     "metadata": {},
     "output_type": "execute_result"
    }
   ],
   "source": [
    "# perform action each item\n",
    "# double each item\n",
    "a = [12,23,43,56,768,98]\n",
    "b = []\n",
    "for n in a:\n",
    "    b.append(n*2)\n",
    "\n",
    "a = b\n",
    "a"
   ]
  },
  {
   "cell_type": "code",
   "execution_count": 41,
   "id": "4a3f8fc4",
   "metadata": {},
   "outputs": [
    {
     "name": "stdout",
     "output_type": "stream",
     "text": [
      "enter number to update:12\n"
     ]
    },
    {
     "data": {
      "text/plain": [
       "[400, 23, 43, 56, 768, 98]"
      ]
     },
     "execution_count": 41,
     "metadata": {},
     "output_type": "execute_result"
    }
   ],
   "source": [
    "a = [12,23,43,56,768,98]\n",
    "indextoupdate = int(input(\"enter number to update:\"))\n",
    "a[a.index(indextoupdate)]=400\n",
    "a"
   ]
  },
  {
   "cell_type": "markdown",
   "id": "b861eee3",
   "metadata": {},
   "source": [
    "Tuples (immutable / not editable)"
   ]
  },
  {
   "cell_type": "code",
   "execution_count": 46,
   "id": "8c016b74",
   "metadata": {},
   "outputs": [
    {
     "data": {
      "text/plain": [
       "(12, 23, 43, 56, 768, 98)"
      ]
     },
     "execution_count": 46,
     "metadata": {},
     "output_type": "execute_result"
    }
   ],
   "source": [
    "# create a tuple\n",
    "a = (12,23,43,56,768,98)\n",
    "a\n",
    "# type(a)"
   ]
  },
  {
   "cell_type": "code",
   "execution_count": 47,
   "id": "b92f10a2",
   "metadata": {},
   "outputs": [
    {
     "data": {
      "text/plain": [
       "12"
      ]
     },
     "execution_count": 47,
     "metadata": {},
     "output_type": "execute_result"
    }
   ],
   "source": [
    "a[0]"
   ]
  },
  {
   "cell_type": "code",
   "execution_count": 48,
   "id": "2530f111",
   "metadata": {},
   "outputs": [
    {
     "ename": "TypeError",
     "evalue": "'tuple' object does not support item assignment",
     "output_type": "error",
     "traceback": [
      "\u001b[1;31m----------------------------------------------\u001b[0m",
      "\u001b[1;31mTypeError\u001b[0m    Traceback (most recent call last)",
      "Input \u001b[1;32mIn [48]\u001b[0m, in \u001b[0;36m<cell line: 1>\u001b[1;34m()\u001b[0m\n\u001b[1;32m----> 1\u001b[0m \u001b[43ma\u001b[49m\u001b[43m[\u001b[49m\u001b[38;5;241;43m0\u001b[39;49m\u001b[43m]\u001b[49m \u001b[38;5;241m=\u001b[39m \u001b[38;5;241m100\u001b[39m\n",
      "\u001b[1;31mTypeError\u001b[0m: 'tuple' object does not support item assignment"
     ]
    }
   ],
   "source": [
    "a[0] = 100"
   ]
  },
  {
   "cell_type": "code",
   "execution_count": 49,
   "id": "bfeb89a9",
   "metadata": {},
   "outputs": [
    {
     "data": {
      "text/plain": [
       "['__add__',\n",
       " '__class__',\n",
       " '__class_getitem__',\n",
       " '__contains__',\n",
       " '__delattr__',\n",
       " '__dir__',\n",
       " '__doc__',\n",
       " '__eq__',\n",
       " '__format__',\n",
       " '__ge__',\n",
       " '__getattribute__',\n",
       " '__getitem__',\n",
       " '__getnewargs__',\n",
       " '__gt__',\n",
       " '__hash__',\n",
       " '__init__',\n",
       " '__init_subclass__',\n",
       " '__iter__',\n",
       " '__le__',\n",
       " '__len__',\n",
       " '__lt__',\n",
       " '__mul__',\n",
       " '__ne__',\n",
       " '__new__',\n",
       " '__reduce__',\n",
       " '__reduce_ex__',\n",
       " '__repr__',\n",
       " '__rmul__',\n",
       " '__setattr__',\n",
       " '__sizeof__',\n",
       " '__str__',\n",
       " '__subclasshook__',\n",
       " 'count',\n",
       " 'index']"
      ]
     },
     "execution_count": 49,
     "metadata": {},
     "output_type": "execute_result"
    }
   ],
   "source": [
    "dir(a)"
   ]
  },
  {
   "cell_type": "code",
   "execution_count": 52,
   "id": "62e40830",
   "metadata": {},
   "outputs": [
    {
     "data": {
      "text/plain": [
       "6"
      ]
     },
     "execution_count": 52,
     "metadata": {},
     "output_type": "execute_result"
    }
   ],
   "source": [
    "len(a)"
   ]
  },
  {
   "cell_type": "code",
   "execution_count": 53,
   "id": "c5df071d",
   "metadata": {},
   "outputs": [
    {
     "data": {
      "text/plain": [
       "0"
      ]
     },
     "execution_count": 53,
     "metadata": {},
     "output_type": "execute_result"
    }
   ],
   "source": [
    "a.index(12)"
   ]
  },
  {
   "cell_type": "code",
   "execution_count": 54,
   "id": "bdeefd20",
   "metadata": {},
   "outputs": [
    {
     "data": {
      "text/plain": [
       "3"
      ]
     },
     "execution_count": 54,
     "metadata": {},
     "output_type": "execute_result"
    }
   ],
   "source": [
    "# count the number of occurence of an item\n",
    "a = (12,23,43,12,768,98,12)\n",
    "a.count(12)"
   ]
  },
  {
   "cell_type": "code",
   "execution_count": 61,
   "id": "90a81944",
   "metadata": {},
   "outputs": [
    {
     "data": {
      "text/plain": [
       "(12, 23, 43, 12, 768, 98, 12, 1200)"
      ]
     },
     "execution_count": 61,
     "metadata": {},
     "output_type": "execute_result"
    }
   ],
   "source": [
    "a = (12,23,43,12,768,98,12)\n",
    "a = list(a)\n",
    "# type(a)\n",
    "a.append(1200)\n",
    "a = tuple(a)\n",
    "a"
   ]
  },
  {
   "cell_type": "code",
   "execution_count": 62,
   "id": "9957c235",
   "metadata": {},
   "outputs": [
    {
     "name": "stdout",
     "output_type": "stream",
     "text": [
      "12\n",
      "23\n",
      "43\n",
      "12\n",
      "768\n",
      "98\n",
      "12\n",
      "1200\n"
     ]
    }
   ],
   "source": [
    "for n in a:\n",
    "    print(n)"
   ]
  },
  {
   "cell_type": "code",
   "execution_count": 69,
   "id": "1914e09e",
   "metadata": {},
   "outputs": [
    {
     "data": {
      "text/plain": [
       "(36, 69, 129, 76800, 9800, 50, 7500, 67900, 135, 99900, 12400)"
      ]
     },
     "execution_count": 69,
     "metadata": {},
     "output_type": "execute_result"
    }
   ],
   "source": [
    "a = (12,23,43,768,98,50,75,679,45,999,124)\n",
    "b = []\n",
    "# get all values less than 50, multiply it by 3 and put it in a separate tuple\n",
    "# if number is greater than 50 multiply by 100\n",
    "# if number is equal to 50 keep value\n",
    "\n",
    "for n in a:\n",
    "    if n < 50:\n",
    "        b.append(n*3)\n",
    "    elif n > 50:\n",
    "        b.append(n * 100)\n",
    "    else:\n",
    "        b.append(n)\n",
    "\n",
    "b = tuple(b)\n",
    "# type(b)\n",
    "b"
   ]
  },
  {
   "cell_type": "markdown",
   "id": "dd061073",
   "metadata": {},
   "source": [
    "Dictionaries (mutable / editable / key-value) "
   ]
  },
  {
   "cell_type": "code",
   "execution_count": 72,
   "id": "f144a5d3",
   "metadata": {},
   "outputs": [
    {
     "data": {
      "text/plain": [
       "{'id': 1, 'firstname': 'jane', 'lastname': 'cruz', 'gender': 'female'}"
      ]
     },
     "execution_count": 72,
     "metadata": {},
     "output_type": "execute_result"
    }
   ],
   "source": [
    "# create a dictionary\n",
    "di = {\"id\":1,\"firstname\":\"jane\",\"lastname\":\"cruz\",\"gender\":\"female\"}\n",
    "\n",
    "#type(di)\n",
    "di"
   ]
  },
  {
   "cell_type": "code",
   "execution_count": 74,
   "id": "23ed108b",
   "metadata": {},
   "outputs": [
    {
     "data": {
      "text/plain": [
       "'jane'"
      ]
     },
     "execution_count": 74,
     "metadata": {},
     "output_type": "execute_result"
    }
   ],
   "source": [
    "di[\"firstname\"]"
   ]
  },
  {
   "cell_type": "code",
   "execution_count": 75,
   "id": "528d2455",
   "metadata": {},
   "outputs": [
    {
     "data": {
      "text/plain": [
       "['__class__',\n",
       " '__class_getitem__',\n",
       " '__contains__',\n",
       " '__delattr__',\n",
       " '__delitem__',\n",
       " '__dir__',\n",
       " '__doc__',\n",
       " '__eq__',\n",
       " '__format__',\n",
       " '__ge__',\n",
       " '__getattribute__',\n",
       " '__getitem__',\n",
       " '__gt__',\n",
       " '__hash__',\n",
       " '__init__',\n",
       " '__init_subclass__',\n",
       " '__ior__',\n",
       " '__iter__',\n",
       " '__le__',\n",
       " '__len__',\n",
       " '__lt__',\n",
       " '__ne__',\n",
       " '__new__',\n",
       " '__or__',\n",
       " '__reduce__',\n",
       " '__reduce_ex__',\n",
       " '__repr__',\n",
       " '__reversed__',\n",
       " '__ror__',\n",
       " '__setattr__',\n",
       " '__setitem__',\n",
       " '__sizeof__',\n",
       " '__str__',\n",
       " '__subclasshook__',\n",
       " 'clear',\n",
       " 'copy',\n",
       " 'fromkeys',\n",
       " 'get',\n",
       " 'items',\n",
       " 'keys',\n",
       " 'pop',\n",
       " 'popitem',\n",
       " 'setdefault',\n",
       " 'update',\n",
       " 'values']"
      ]
     },
     "execution_count": 75,
     "metadata": {},
     "output_type": "execute_result"
    }
   ],
   "source": [
    "dir(di)"
   ]
  },
  {
   "cell_type": "code",
   "execution_count": 76,
   "id": "60b66e0d",
   "metadata": {},
   "outputs": [
    {
     "data": {
      "text/plain": [
       "'female'"
      ]
     },
     "execution_count": 76,
     "metadata": {},
     "output_type": "execute_result"
    }
   ],
   "source": [
    "di.get('gender')"
   ]
  },
  {
   "cell_type": "code",
   "execution_count": 79,
   "id": "11348980",
   "metadata": {},
   "outputs": [
    {
     "data": {
      "text/plain": [
       "{'id': 1, 'firstname': 'john', 'lastname': 'cruz', 'gender': 'male'}"
      ]
     },
     "execution_count": 79,
     "metadata": {},
     "output_type": "execute_result"
    }
   ],
   "source": [
    "di['firstname'] = \"john\"\n",
    "di['gender'] = \"male\"\n",
    "\n",
    "di"
   ]
  },
  {
   "cell_type": "code",
   "execution_count": 78,
   "id": "556c27d6",
   "metadata": {},
   "outputs": [
    {
     "data": {
      "text/plain": [
       "4"
      ]
     },
     "execution_count": 78,
     "metadata": {},
     "output_type": "execute_result"
    }
   ],
   "source": [
    "len(di)"
   ]
  },
  {
   "cell_type": "code",
   "execution_count": 80,
   "id": "8efb48e1",
   "metadata": {},
   "outputs": [
    {
     "data": {
      "text/plain": [
       "{'id': 1,\n",
       " 'firstname': 'john',\n",
       " 'lastname': 'cruz',\n",
       " 'gender': 'male',\n",
       " 'city': 'Laguna'}"
      ]
     },
     "execution_count": 80,
     "metadata": {},
     "output_type": "execute_result"
    }
   ],
   "source": [
    "# add key-value\n",
    "di['city'] = 'Laguna'\n",
    "di"
   ]
  },
  {
   "cell_type": "code",
   "execution_count": 81,
   "id": "de18b421",
   "metadata": {},
   "outputs": [
    {
     "data": {
      "text/plain": [
       "{'id': 1,\n",
       " 'firstname': 'john',\n",
       " 'lastname': 'cruz',\n",
       " 'gender': 'male',\n",
       " 'city': 'Laguna',\n",
       " 'cty': 'Manila'}"
      ]
     },
     "execution_count": 81,
     "metadata": {},
     "output_type": "execute_result"
    }
   ],
   "source": [
    "# add key-value\n",
    "di['cty'] = 'Manila'\n",
    "di"
   ]
  },
  {
   "cell_type": "code",
   "execution_count": 82,
   "id": "121315a7",
   "metadata": {},
   "outputs": [
    {
     "data": {
      "text/plain": [
       "{'id': 1,\n",
       " 'firstname': 'john',\n",
       " 'lastname': 'cruz',\n",
       " 'gender': 'male',\n",
       " 'city': 'Laguna'}"
      ]
     },
     "execution_count": 82,
     "metadata": {},
     "output_type": "execute_result"
    }
   ],
   "source": [
    "di.pop('cty')\n",
    "di"
   ]
  },
  {
   "cell_type": "code",
   "execution_count": 84,
   "id": "91d1dbc8",
   "metadata": {},
   "outputs": [
    {
     "data": {
      "text/plain": [
       "{'id': 1, 'firstname': 'john', 'lastname': 'cruz', 'gender': 'male'}"
      ]
     },
     "execution_count": 84,
     "metadata": {},
     "output_type": "execute_result"
    }
   ],
   "source": [
    "# deletes last item\n",
    "di.popitem()\n",
    "di"
   ]
  },
  {
   "cell_type": "code",
   "execution_count": 87,
   "id": "2f8ba1d9",
   "metadata": {},
   "outputs": [
    {
     "data": {
      "text/plain": [
       "['id', 'firstname', 'lastname', 'gender']"
      ]
     },
     "execution_count": 87,
     "metadata": {},
     "output_type": "execute_result"
    }
   ],
   "source": [
    "# get all keys and place it in list\n",
    "li = []\n",
    "\n",
    "for n in di:\n",
    "    # print(n)\n",
    "    li.append(n)\n",
    "\n",
    "li"
   ]
  },
  {
   "cell_type": "code",
   "execution_count": 88,
   "id": "e41dca31",
   "metadata": {},
   "outputs": [
    {
     "data": {
      "text/plain": [
       "dict_keys(['id', 'firstname', 'lastname', 'gender'])"
      ]
     },
     "execution_count": 88,
     "metadata": {},
     "output_type": "execute_result"
    }
   ],
   "source": [
    "# display all keys\n",
    "di.keys()"
   ]
  },
  {
   "cell_type": "code",
   "execution_count": 89,
   "id": "4dd1b40e",
   "metadata": {},
   "outputs": [
    {
     "data": {
      "text/plain": [
       "dict_items([('id', 1), ('firstname', 'john'), ('lastname', 'cruz'), ('gender', 'male')])"
      ]
     },
     "execution_count": 89,
     "metadata": {},
     "output_type": "execute_result"
    }
   ],
   "source": [
    "# display all items\n",
    "di.items()"
   ]
  },
  {
   "cell_type": "code",
   "execution_count": 90,
   "id": "d00f07ff",
   "metadata": {},
   "outputs": [
    {
     "data": {
      "text/plain": [
       "dict_values([1, 'john', 'cruz', 'male'])"
      ]
     },
     "execution_count": 90,
     "metadata": {},
     "output_type": "execute_result"
    }
   ],
   "source": [
    "# display all values\n",
    "di.values()"
   ]
  },
  {
   "cell_type": "code",
   "execution_count": 92,
   "id": "a1e5e2be",
   "metadata": {},
   "outputs": [
    {
     "data": {
      "text/plain": [
       "[1, 'john', 'cruz', 'male']"
      ]
     },
     "execution_count": 92,
     "metadata": {},
     "output_type": "execute_result"
    }
   ],
   "source": [
    "# transfer all values into a list\n",
    "v = []\n",
    "for n in di.values():\n",
    "    v.append(n)\n",
    "\n",
    "v\n"
   ]
  },
  {
   "cell_type": "markdown",
   "id": "07b5bf9a",
   "metadata": {},
   "source": [
    "Sets (unordered, no assign , allow add/update)"
   ]
  },
  {
   "cell_type": "code",
   "execution_count": 95,
   "id": "84729deb",
   "metadata": {},
   "outputs": [
    {
     "data": {
      "text/plain": [
       "{'apple', 'banana', 'cherry'}"
      ]
     },
     "execution_count": 95,
     "metadata": {},
     "output_type": "execute_result"
    }
   ],
   "source": [
    "# create a set\n",
    "se = {'apple','banana','cherry'}\n",
    "# type(se)\n",
    "se"
   ]
  },
  {
   "cell_type": "code",
   "execution_count": 96,
   "id": "4a9e6140",
   "metadata": {},
   "outputs": [
    {
     "name": "stdout",
     "output_type": "stream",
     "text": [
      "Apple\n",
      "Banana\n",
      "Cherry\n"
     ]
    }
   ],
   "source": [
    "# loop over the set\n",
    "for n in se:\n",
    "    print(n.capitalize())"
   ]
  },
  {
   "cell_type": "code",
   "execution_count": 98,
   "id": "474c8c97",
   "metadata": {},
   "outputs": [
    {
     "ename": "TypeError",
     "evalue": "'set' object does not support item assignment",
     "output_type": "error",
     "traceback": [
      "\u001b[1;31m----------------------------------------------\u001b[0m",
      "\u001b[1;31mTypeError\u001b[0m    Traceback (most recent call last)",
      "Input \u001b[1;32mIn [98]\u001b[0m, in \u001b[0;36m<cell line: 1>\u001b[1;34m()\u001b[0m\n\u001b[1;32m----> 1\u001b[0m \u001b[43mse\u001b[49m\u001b[43m[\u001b[49m\u001b[38;5;241;43m0\u001b[39;49m\u001b[43m]\u001b[49m \u001b[38;5;241m=\u001b[39m \u001b[38;5;124m'\u001b[39m\u001b[38;5;124mOrange\u001b[39m\u001b[38;5;124m'\u001b[39m\n",
      "\u001b[1;31mTypeError\u001b[0m: 'set' object does not support item assignment"
     ]
    }
   ],
   "source": [
    "se[0] = 'Orange'"
   ]
  },
  {
   "cell_type": "code",
   "execution_count": 99,
   "id": "779932ee",
   "metadata": {},
   "outputs": [
    {
     "data": {
      "text/plain": [
       "['__and__',\n",
       " '__class__',\n",
       " '__class_getitem__',\n",
       " '__contains__',\n",
       " '__delattr__',\n",
       " '__dir__',\n",
       " '__doc__',\n",
       " '__eq__',\n",
       " '__format__',\n",
       " '__ge__',\n",
       " '__getattribute__',\n",
       " '__gt__',\n",
       " '__hash__',\n",
       " '__iand__',\n",
       " '__init__',\n",
       " '__init_subclass__',\n",
       " '__ior__',\n",
       " '__isub__',\n",
       " '__iter__',\n",
       " '__ixor__',\n",
       " '__le__',\n",
       " '__len__',\n",
       " '__lt__',\n",
       " '__ne__',\n",
       " '__new__',\n",
       " '__or__',\n",
       " '__rand__',\n",
       " '__reduce__',\n",
       " '__reduce_ex__',\n",
       " '__repr__',\n",
       " '__ror__',\n",
       " '__rsub__',\n",
       " '__rxor__',\n",
       " '__setattr__',\n",
       " '__sizeof__',\n",
       " '__str__',\n",
       " '__sub__',\n",
       " '__subclasshook__',\n",
       " '__xor__',\n",
       " 'add',\n",
       " 'clear',\n",
       " 'copy',\n",
       " 'difference',\n",
       " 'difference_update',\n",
       " 'discard',\n",
       " 'intersection',\n",
       " 'intersection_update',\n",
       " 'isdisjoint',\n",
       " 'issubset',\n",
       " 'issuperset',\n",
       " 'pop',\n",
       " 'remove',\n",
       " 'symmetric_difference',\n",
       " 'symmetric_difference_update',\n",
       " 'union',\n",
       " 'update']"
      ]
     },
     "execution_count": 99,
     "metadata": {},
     "output_type": "execute_result"
    }
   ],
   "source": [
    "dir(se)"
   ]
  },
  {
   "cell_type": "code",
   "execution_count": 102,
   "id": "bf850a8e",
   "metadata": {},
   "outputs": [
    {
     "data": {
      "text/plain": [
       "{'apple', 'banana', 'cherry', 'durian'}"
      ]
     },
     "execution_count": 102,
     "metadata": {},
     "output_type": "execute_result"
    }
   ],
   "source": [
    "# adding item\n",
    "se.add('durian')\n",
    "se"
   ]
  },
  {
   "cell_type": "code",
   "execution_count": 105,
   "id": "47de50b8",
   "metadata": {},
   "outputs": [
    {
     "data": {
      "text/plain": [
       "{'apple', 'banana', 'cherry', 'durian', 'grapes', 'orange'}"
      ]
     },
     "execution_count": 105,
     "metadata": {},
     "output_type": "execute_result"
    }
   ],
   "source": [
    "# update (add multiple items)\n",
    "a = ['grapes','orange']\n",
    "se.update(a)\n",
    "se"
   ]
  },
  {
   "cell_type": "code",
   "execution_count": 106,
   "id": "f8ed5a2d",
   "metadata": {},
   "outputs": [
    {
     "data": {
      "text/plain": [
       "{'apple', 'banana', 'durian', 'grapes', 'orange'}"
      ]
     },
     "execution_count": 106,
     "metadata": {},
     "output_type": "execute_result"
    }
   ],
   "source": [
    "# remove items\n",
    "se.discard('cherry')\n",
    "se"
   ]
  },
  {
   "cell_type": "code",
   "execution_count": null,
   "id": "f5c51911",
   "metadata": {},
   "outputs": [],
   "source": []
  }
 ],
 "metadata": {
  "kernelspec": {
   "display_name": "Python 3 (ipykernel)",
   "language": "python",
   "name": "python3"
  },
  "language_info": {
   "codemirror_mode": {
    "name": "ipython",
    "version": 3
   },
   "file_extension": ".py",
   "mimetype": "text/x-python",
   "name": "python",
   "nbconvert_exporter": "python",
   "pygments_lexer": "ipython3",
   "version": "3.10.4"
  }
 },
 "nbformat": 4,
 "nbformat_minor": 5
}
