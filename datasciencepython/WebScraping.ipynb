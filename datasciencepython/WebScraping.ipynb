{
 "cells": [
  {
   "cell_type": "markdown",
   "id": "d62448e0",
   "metadata": {},
   "source": [
    "wikipedia scraping"
   ]
  },
  {
   "cell_type": "markdown",
   "id": "ec7929db",
   "metadata": {},
   "source": [
    "pip install wikipedia"
   ]
  },
  {
   "cell_type": "code",
   "execution_count": 1,
   "id": "63fd4cb8",
   "metadata": {},
   "outputs": [],
   "source": [
    "import wikipedia"
   ]
  },
  {
   "cell_type": "code",
   "execution_count": 2,
   "id": "89f3125d",
   "metadata": {},
   "outputs": [
    {
     "data": {
      "text/plain": [
       "['Capital One',\n",
       " 'Capital One Arena',\n",
       " 'Capital One Cup',\n",
       " 'Capital One Tower (Virginia)',\n",
       " 'Citrus Bowl',\n",
       " 'Human capital',\n",
       " 'Capital One Tower',\n",
       " 'Capital Radio One',\n",
       " 'Capital One Tower (Louisiana)',\n",
       " 'Capital accumulation']"
      ]
     },
     "execution_count": 2,
     "metadata": {},
     "output_type": "execute_result"
    }
   ],
   "source": [
    "wikipedia.search(\"Capital One\")"
   ]
  },
  {
   "cell_type": "code",
   "execution_count": 3,
   "id": "7f8a7ace",
   "metadata": {},
   "outputs": [
    {
     "data": {
      "text/plain": [
       "\"The Philippines ( (listen); Filipino: Pilipinas), officially the Republic of the Philippines (Filipino: Republika ng Pilipinas), is an archipelagic country in Southeast Asia. It is situated in the western Pacific Ocean and consists of around 7,641 islands that are broadly categorized under three main geographical divisions from north to south: Luzon, Visayas, and Mindanao. The Philippines is bounded by the South China Sea to the west, the Philippine Sea to the east, and the Celebes Sea to the southwest. It shares maritime borders with Taiwan to the north, Japan to the northeast, Palau to the east and southeast, Indonesia to the south, Malaysia to the southwest, Vietnam to the west, and China to the northwest. The Philippines covers an area of 300,000 km2 (120,000 sq mi) and, as of 2021, it had a population of around 109 million people, making it the world's thirteenth-most populous country. The Philippines has diverse ethnicities and cultures throughout its islands. Manila is the country's capital, while the largest city is Quezon City; both lie within the urban area of Metro Manila.\\nNegritos, some of the archipelago's earliest inhabitants, were followed by successive waves of Austronesian peoples. Adoption of animism, Hinduism and Islam established island-kingdoms called Kedatuan, Rajahnates, and Sultanates. The arrival of Ferdinand Magellan, a Portuguese explorer leading a fleet for Spain, marked the beginning of Spanish colonization. In 1543, Spanish explorer Ruy López de Villalobos named the archipelago Las Islas Filipinas in honor of Philip II of Spain. Spanish settlement through Mexico, beginning in 1565, led to the Philippines becoming part of the Spanish Empire for more than 300 years. During this time, Catholicism became the dominant religion, and Manila became the western hub of trans-Pacific trade. In 1896, the Philippine Revolution began, which then became entwined with the 1898 Spanish–American War. Spain ceded the territory to the United States, while Filipino revolutionaries declared the First Philippine Republic. The ensuing Philippine–American War ended with the United States establishing control over the territory, which they maintained until the Japanese invasion of the islands during World War II. Following liberation, the Philippines became independent in 1946. Since then, the unitary sovereign state has often had a tumultuous experience with democracy, which included the overthrow of a decades-long dictatorship by a non-violent revolution.\\nThe Philippines is an emerging market and a newly industrialized country whose economy is transitioning from being agriculture-centered to services- and manufacturing-centered. It is a founding member of the United Nations, World Trade Organization, Association of Southeast Asian Nations, the Asia-Pacific Economic Cooperation forum, and the East Asia Summit. The Philippines's position as an island country on the Pacific Ring of Fire that is close to the equator makes it prone to earthquakes and typhoons. The country has a variety of natural resources and is home to a globally significant level of biodiversity.\""
      ]
     },
     "execution_count": 3,
     "metadata": {},
     "output_type": "execute_result"
    }
   ],
   "source": [
    "wikipedia.summary(\"Philippines\")"
   ]
  },
  {
   "cell_type": "code",
   "execution_count": 4,
   "id": "ae2e8ca5",
   "metadata": {},
   "outputs": [
    {
     "data": {
      "text/plain": [
       "'Capital One Financial Corporation is an American bank holding company specializing in credit cards, auto loans, banking, and savings accounts, headquartered in McLean, Virginia with operations primarily in the United States. It is on the list of largest banks in the United States and has developed a reputation for being a technology-focused bank.\\nThe bank has 755 branches including 30 café style locations and 2,000 ATMs. It is ranked 99th on the Fortune 500, 9th on Fortune\\'s 100 Best Companies to Work For list, and conducts business in the United States, Canada, and the United Kingdom. The company helped pioneer the mass marketing of credit cards in the 1990s. In 2016, it was the 5th largest credit card issuer by purchase volume, after American Express, JPMorgan Chase, Bank of America, and Citigroup.With a market share of 5%, Capital One is also the second largest auto finance company in the United States, following Ally Financial.The company\\'s three divisions are credit cards, consumer banking and commercial banking.  In the fourth quarter of 2018, 75% of the company\\'s revenues were from credit cards, 14% were from consumer banking, and 11% were from commercial banking.\\n\\n\\n== History ==\\n\\n\\n=== Monoline credit card company (1994–2004) ===\\n\\nOn July 21, 1994, Richmond, Virginia-based Signet Financial Corp (now part of Wells Fargo) announced the corporate spin-off of its credit card division, OakStone Financial, naming Richard Fairbank as CEO. Signet renamed the subsidiary Capital One in October 1994, and the spin-off was completed in February 1995.\\nAt that time, Capital One was a monoline bank, meaning that all of its revenue came from a single product, in this case, credit cards. This strategy is risky in that it can lead to losses during bad times. Capital One attributed its relative success as a monoline to its use of data collection to build demographic profiles, allowing it to target personalized offers of credit directly to consumers.\\n\\n\\n=== Expansion into auto loans (1996–present) ===\\nIn 1996, Capital One moved from relying on teaser rates to generate new clients to adopting more innovative techniques that would attract more customers to their business model. At the time, it was losing customers to competitors who offered higher ceilings on loan balances and no-annual-fee accounts. The company came up with co-branded, secured, and joint account credit cards. In mid-1996, Capital One received approval from the federal government to set up Capital One FSB. This meant that the company could now retain and lend out deposits on secured cards and even issue automobile installment loans.In 1996, Capital One expanded its business operations to the United Kingdom and Canada. This gave the company access to a large international market for its credit cards. An article appearing in Chief Executive in 1997 noted that the company held $12.6 billion in credit card receivables and served more than nine million customers. The company was listed in the Standard & Poor\\'s 500, and its stock price hit the $100 mark for the first time in 1998.In July 1998, Capital One acquired auto financing company Summit Acceptance Corporation.In 1999, Capital One was looking to expand beyond credit cards. CEO Richard Fairbank announced moves to use Capital One\\'s experience with collecting consumer data to offer loans, insurance, and phone service.In October 2001, PeopleFirst Finance LLC was acquired by Capital One. The companies were combined and re-branded as Capital One Auto Finance Corporation in 2003.In late 2002, Capital One and the United States Postal Service proposed a negotiated services agreement (NSA) for bulk discounts in mailing services. The resulting three-year agreement was extended in 2006. In June 2008, however, Capital One filed a complaint with the USPS regarding the terms of the next agreement, citing the terms of the NSA of Capital One\\'s competitor, Bank of America. Capital One subsequently withdrew its complaint to the Postal Regulatory Commission following a settlement with the USPS.Automobile loan financer Onyx Acceptance Corporation was acquired by Capital One in January 2005.\\n\\n\\n=== Expansion into retail banking (2005–present) ===\\n\\nIn 2005 Capital One became the first monoline credit card issuer to buy a bank, as it entered into retail banking by acquiring Hibernia National Bank. It purchased the New Orleans, Louisiana-based Hibernia for $4.9 billion in cash and stock. It acquired Melville, New York-based North Fork Bank for $13.2 billion in cash and stock in 2006. The acquisition of retail banks greatly reduced its dependency on the credit-card business alone. It acquired Netspend, a marketer of prepaid debit cards, for $700 million in 2007.During the 2007 subprime mortgage financial crisis, Capital One closed its mortgage platform, GreenPoint Mortgage, due in part to investor pressures. The U.S. Securities and Exchange Commission criticized Capital One\\'s conduct during the crisis, claiming that they understated auto loan losses during the financial crisis of 2007–2008. In 2013, Capital One paid $3.5 million to settle the case, but was not required to directly address the allegations of wrongdoing. In 2008, Capital One received an investment of $3.56 billion from the United States Treasury as a result of the Troubled Asset Relief Program. On June 17, 2009, Capital One completed the repurchase of the stock the company issued to the U.S. Treasury paying a total of $3.67 billion, resulting in a profit of over $100 million to the U.S. Treasury.In February 2009, Capital One acquired Chevy Chase Bank for $520 million in cash and stock.In January 2011, Capital One acquired Canada-based Hudson\\'s Bay Company\\'s private credit card portfolio from Synchrony Financial, then known as GE Financial.In June 2011, ING Group announced the sale of its ING Direct division to Capital One for $9 billion in cash and stock. On August 26, 2011, the Federal Reserve Board of Governors announced it would hold public hearings on the Capital One acquisition of ING Direct, and extend to October 12, 2011, the public comment period that had been scheduled to end August 22. The move came amidst rising scrutiny of the deal on systemic risk, or \"Too-Big-to-Fail,\" performance under the Community Reinvestment Act, and pending legal challenges. A coalition of national civil rights and consumer groups, led by the National Community Reinvestment Coalition, were joined by Rep. Barney Frank to challenge immediate approval of the deal. The groups argued that the acquisition was a test of the Dodd-Frank Wall Street Reform and Consumer Protection Act, under which systemically risky firms must demonstrate a public benefit that outweighs new risk before they are allowed to grow. Kansas City Federal Reserve Bank head Thomas M. Hoenig was also skeptical of the deal. In February 2012, the acquisition was approved by regulators and Capital One completed its acquisition of ING Direct. Capital One received permission to merge ING into its business in October 2012, and rebranded ING Direct as Capital One 360 in November 2012.In April 2011, Capital One signed a deal with Kohl\\'s to handle Kohl\\'s private label credit card program that was previous serviced by Chase Bank for a seven-year period for an undisclosed amount. The contract between the two companies was extended in May 2014.In August 2011, Capital One reached a deal with HSBC to acquire its U.S. credit card operations. Capital One paid $31.3 billion in exchange for $28.2 billion in loans and $600 million in other assets. The acquisition was completed in May 2012. The acquisition also included private issued credit cards for such companies as Saks Fifth Avenue, Neiman Marcus, and Lord & Taylor that were previously handled by HSBC.In February 2012, along with several other banks, Capital One announced support for the Isis Mobile Wallet payment system. However, in September 2013, Capital One dropped support for the venture.In 2012, Capital One closed 41 branch locations.In February 2014, Capital One became a 25% owner in ClearXchange, a Peer-to-peer transaction money transfer service designed to make electronic funds transfers to customers within the same bank and other financial institutions via mobile phone number or email address. ClearXchange was sold to Early Warning in 2016.In January 2015, Capital One acquired Level Money, a budgeting app for consumers.In 2015, Capital One closed several branch locations to leave 174 operating branches in the D.C. metro area.In July 2015, the company acquired Monsoon, a design studio, development shop, marketing house and strategic consultancy.In 2015, Capital One acquired General Electric\\'s Healthcare Financial Services unit, which included $8.5 billion in loans made to businesses in the healthcare industry, for $9 billion.In October 2016, Capital One acquired Paribus, a price tracking service, for an undisclosed amount.In July 2019, Capital One signed a deal with Walmart to handle Walmart\\'s private label and co-branded credit card programs that was previously serviced by Synchrony Financial.\\nIn November 2021, the company introduced Venture X, a travel rewards credit card, with a $395 annual fee.\\n\\n\\n=== Exit from mortgage banking (2006–2007 and 2011–2017) ===\\nIn November 2017, President of Financial Services Sanjiv Yajnik announced that the mortgage market was too competitive in the low rate environment to make money in the business. The company exited the mortgage origination business on November 7, 2017, laying off 1,100 employees. This was the second closure; the first occurred on August 20, 2007, when GreenPoint Mortgage unit was closed. GreenPoint had been acquired December 2006 when Capital One paid $13.2 billion to North Fork Bancorp Inc. The re-emergence into the mortgage industry came in 2011 with the purchase of online bank ING Direct USA.\\n\\n\\n=== Other acquisitions ===\\nIn May 2018, the company acquired Confyrm, a digital identity and fraud alert service.In November 2018, Capital One acquired Wikibuy, a shopping comparison app and browser extension from an Austin, Texas start-up business; Wikibuy has no connection with Wikipedia/Wikimedia.\\n\\n\\n== Divisions ==\\nCapital One operates 3 divisions as follows:\\nCredit cards – Capital One issues credit cards in the United States, Canada, and the United Kingdom and is the 3rd largest credit card issuer, after JPMorgan Chase and Citigroup. As of December 31, 2018, Capital One had $107.350 billion in credit card loans outstanding in the United States and $9.011 billion of credit card loans outstanding in Canada and the United Kingdom, with credit cards representing 47.3% of total loans outstanding.\\nConsumer banking – Capital One offers banking services, including checking accounts, saving accounts, and money market accounts via its branches and direct bank as well as retail and auto loans. As of December 31, 2018, the company had $2.864 billion in retail loans outstanding and $56.341 billion in car finance loans outstanding, representing 22.9% of total loans outstanding.\\nCommercial banking – As of December 31, 2018, Capital One had $70.333 billion in loans outstanding secured by commercial, multifamily, and industrial properties, representing 28.6% of total loans outstanding.\\n\\n\\n== Sports marketing ==\\n\\nFrom 2001 to 2014, Capital One was the principal sponsor of the college football Florida Citrus Bowl, which was called the Capital One Bowl from 2003 to 2014. It sponsored a mascot challenge every year, announcing the winner on the day of the Capital One Bowl. The name of the bowl game was changed in 2015 to the Buffalo Wild Wings Citrus Bowl.Capital One is one of the top three sponsors of the NCAA, paying an estimated $35 million annually in exchange for advertising and access to consumer data. Capital One also sponsored the EFL Cup, an English Soccer Competition, from 2012 to 2016. The company sponsored Sheffield United F.C. from 2006 to 2008. From 2009 to 2015, the University of Maryland Terrapins football team played at Capital One Field at Maryland Stadium (formerly Byrd Stadium), a naming-rights deal inherited in the bank\\'s acquisition of Chevy Chase Bank. In 2017, the company became the sponsor of the Capital One Arena in Washington D.C.In 2018, to celebrate the Washington Capitals\\' second-ever Stanley Cup Finals appearance, the firm temporarily changed its logo by replacing the word \"Capital\" with the Capitals\\' titular logo, without the \"s\" plural.\\n\\n\\n== Corporate citizenship ==\\nCapital One operates some charitable programs. The accountability organization National Committee for Responsive Philanthropy has been highly critical of Capital One\\'s relatively low rate of giving, stating that \"Capital One\\'s philanthropic track record is dismal\". The organization pointed out that Capital One\\'s donations of 0.024% of revenue were much less than the industry median of 0.11% of revenue. Capital One has disputed the groups figures, saying that \"... In 2011 alone, our giving totals are more than 6 times greater ($30 million) than the number given by the NCRP\".\\n\\n\\n== Criticism and legal actions ==\\n\\n\\n=== Fines for misleading customers to pay extra for services ===\\nIn July 2012, Capital One was fined by the Office of the Comptroller of the Currency and the Consumer Financial Protection Bureau for misleading millions of its customers, for example by requiring customers to pay extra for payment protection or credit monitoring when they took out a card. The company agreed to pay $210 million to settle the legal action and to refund two million customers. This was the CFPB\\'s first public enforcement action.\\n\\n\\n=== Automated dialing to customers\\' phones ===\\nIn August 2014, Capital One and three collection agencies entered into an agreement to pay $75.5 million to end a consolidated class action lawsuit pending in the United States District Court for the Northern District of Illinois alleging that the companies used an automated dialer to call customers\\' cellphones without consent, which is a violation of the Telephone Consumer Protection Act of 1991. It is notable that this legal action involved informational telephone calls, which are not subject to the \"prior express written consent\" requirements which have been in place for telemarketing calls since October 2013.\\n\\n\\n=== 2014 amendment to terms of use to allow personal visits ===\\nIn 2014, Capital One amended its terms of use to allow it to \"contact you in any manner we choose\", including a \"personal visit . . . at your home and at your place of employment.\" It also asserted its right to \"modify or suppress caller ID and similar services and identify ourselves on these services in any manner we choose.\" The company stated that it would not actually make personal visits to customers except \"As a last resort, . . . if it becomes necessary to repossess [a] sports vehicle\". Capital One also attributed its assertion of a right to \"spoof\" as necessary because \"sometimes the number is \\'displayed differently\\' by \\'some local phone exchanges,\\' something that is \\'beyond our control\\'\".\\n\\n\\n=== July 2019 security breach ===\\nCapital One publicly acknowledged on July 29, 2019, that they had found unauthorized access had occurred ten days earlier by an individual who had breached the account and identity security of 106 million people in the United States and Canada. The FBI arrested Paige Thompson, who had previously worked as a software engineer for Amazon Web Services, Capital One\\'s cloud hosting company. Capital One declared that Thompson had accessed about 140,000 Social Security numbers, a million Canadian social insurance numbers; 80,000 bank account numbers, and an unknown number of names and addresses of customers. Capital One began offering free credit monitoring services to those affected by the breach.Thompson\\'s employment at Amazon appears to have ended in September 2016. Amazon stated that the security vulnerability she used to access Capital One could have been discovered by anyone, the information that facilitated her activity was not gained from work at Amazon, and that she gained access via \"a misconfiguration of the (Capital One-designed) web application and not the underlying (Amazon-designed) cloud-based infrastructure\".\\n\\n\\n==== Details of the breach ====\\nForensic analysis determined Thompson\\'s actual hacking activity occurred in March 2019, then she posted the information to different outlets over the next three months. In April she posted what came to be known as the \"April 21 Files\",  a trove of leaked data along with instructions on how to access the company\\'s credentials for more data extraction. In July a white-hat alerted Capital One to Thompson\\'s hacking activity. Thompson pleaded not guilty to charges of wire fraud and computer fraud and abuse. During the investigations and subsequent data freeze, millions of Capital One accounts were locked; their owners were unable to process financial transactions, meet payments, or gain access to their financial records.\\n\\n\\n==== Capital One response ====\\nCritics lambasted the bank\\'s effort to downplay the hack while investigations were ongoing, and described the bank as more concerned about its image than the needs of its clients. Several Capital One customers stated that the first time they heard about the hack was through the media and the bank did not disclose the breach or explain its implications to affected customers. On social media and in the mainstream press, Capital One\\'s contradictory July 2019 press statement was mocked for saying \"No bank account numbers or Social Security numbers were compromised,\" but then listing hundreds of thousands of bank account numbers and social security numbers that were compromised.\\n\\n\\n==== Federal Reserve Action ====\\nOn August 6, 2020, the Federal Reserve Board of Governors announced a cease and desist order against Capital One resulting from the breach. The order mandated, among other things, significant improvements in Capital One\\'s governance, risk management and compliance (GRC) practices.\\n\\n\\n==== Lawsuits ====\\nLawsuits were filed against Capital One and its employees in federal and circuit courts, led by the firms Colson Hicks Eidson, Franklin D. Azar and Associates P.C., and several others.Additional lawsuits were filed against both Amazon and GitHub, alleging they were aware of the exploit but did not act to fix or patch the vulnerability.\\n\\n\\n=== Government investigations ===\\nRelative to other large banks, Capital One has received fewer sanctions or default judgments against it. But some allude this is a result of its close proximity to Washington, D.C. and possible relations with federal regulators. In 2015 the bank disclosed that it was under federal investigation for bank fraud, money laundering, and possible racketeering charges. No further information was given and government investigators would only confirm that it was under scrutiny for \"unspecified charges.\"In 2018, Capital One was fined $100 million for failure to monitor, detect, and prevent money laundering. Charging documents specified Capital One failed to file suspicious activity reports, had deficiencies in its risk assessment, remote deposit capture and generally had weaknesses that compromised  national bank security controls. The bank was the subject of a larger investigation that alleged funds were siphoned out of US jurisdiction to safe havens.\\nIn January 2021, Capital one was fined $390 million by FINCEN for anti-money laundering control failure concerning a now-defunct small portfolio of check-cashing businesses that Capital One acquired around 2008 and subsequently exited from in 2014. Capital One later admitted that it failed to file thousands of suspicious activity reports and lapsed on filing currency transaction reports on around 50,000 reportable cash transactions valued around $16 billion.\\n\\n\\n== Notable office buildings ==\\nCapital One Tower (Virginia) - company headquarters\\nCapital One Tower (Louisiana)\\nPlace St. Charles (New Orleans)\\nCapital One Tower (New York)\\nCapital One SoMa (San Francisco)\\n\\n\\n== References ==\\n\\n\\n== External links ==\\n\\nOfficial website \\nOfficial website (Canada)\\nOfficial website (United Kingdom)\\nBusiness data for Capital One:'"
      ]
     },
     "execution_count": 4,
     "metadata": {},
     "output_type": "execute_result"
    }
   ],
   "source": [
    "wikipedia.page(\"CapitalOne\").content"
   ]
  },
  {
   "cell_type": "code",
   "execution_count": 14,
   "id": "1fb72958",
   "metadata": {},
   "outputs": [
    {
     "name": "stdout",
     "output_type": "stream",
     "text": [
      "['Everyone’s a Landlord—Small-Time Investors Snap Up Out-of-State Properties', 'A $200,000 Annuity Will Get You This Much Money a Month', 'Here’s What a $2 Million Retirement Looks Like in America']\n",
      "['https://www.wsj.com/articles/everyones-a-landlordsmall-time-investors-snap-up-out-of-state-properties-11661705278?siteid=yhoof2&yptr=yahoo', 'https://finance.yahoo.com/news/much-does-200-000-annuity-120000015.html', 'https://www.wsj.com/articles/heres-what-a-2-million-retirement-looks-like-in-america-11661702455?siteid=yhoof2&yptr=yahoo']\n"
     ]
    }
   ],
   "source": [
    "# getting data from news feed\n",
    "# pip install feedparser\n",
    "import feedparser\n",
    "\n",
    "feed = feedparser.parse(\"https://finance.yahoo.com/rss/\")\n",
    "#type(feed)\n",
    "feed_entries = feed.entries\n",
    "\n",
    "titles=[]\n",
    "links=[]\n",
    "for entry in feed_entries:\n",
    "    art_title = entry.title\n",
    "    art_link = entry.link\n",
    "    \n",
    "    titles.append(art_title)\n",
    "    links.append(art_link)\n",
    "    \n",
    "    # print(\"title: %s\\nlink:%s\\n\" %(art_title,art_link))\n",
    "\n",
    "print(titles[0:3])\n",
    "print(links[0:3])\n"
   ]
  },
  {
   "cell_type": "code",
   "execution_count": 9,
   "id": "d64abccb",
   "metadata": {},
   "outputs": [
    {
     "data": {
      "text/plain": [
       "50"
      ]
     },
     "execution_count": 9,
     "metadata": {},
     "output_type": "execute_result"
    }
   ],
   "source": [
    "len(titles) "
   ]
  },
  {
   "cell_type": "code",
   "execution_count": 13,
   "id": "9db17bd5",
   "metadata": {},
   "outputs": [
    {
     "name": "stdout",
     "output_type": "stream",
     "text": [
      "{'A $200,000 Annuity Will Get You This Much Money a Month': 'https://finance.yahoo.com/news/much-does-200-000-annuity-120000015.html', 'US mortgage lenders are starting to go bankrupt — how this one factor could be triggering the worst surge of failures since 2008': 'https://finance.yahoo.com/news/us-mortgage-lenders-starting-bankrupt-191500850.html', 'Here’s What a $2 Million Retirement Looks Like in America': 'https://www.wsj.com/articles/heres-what-a-2-million-retirement-looks-like-in-america-11661702455?siteid=yhoof2&yptr=yahoo', 'I tried ‘quiet quitting’ before it had a name — and I’ve regretted it ever since': 'https://www.marketwatch.com/story/i-tried-quiet-quitting-before-it-was-cool-and-regretted-it-ever-since-11661607277?siteid=yhoof2&yptr=yahoo', 'What Is the Size of the Average Retirement Nest Egg?': 'https://www.investopedia.com/ask/answers/101215/what-size-average-retirement-nest-egg.asp?utm_campaign=quote-yahoo&utm_source=yahoo&utm_medium=referral&yptr=yahoo', 'Seeking at Least 13% Dividend Yield? Analysts Suggest 2 Dividend Stocks to Buy': 'https://finance.yahoo.com/news/seeking-least-13-dividend-yield-151930286.html', 'Census Bureau: 3.8 million renters will likely be evicted in the next two months — why the rental crisis keeps getting worse': 'https://finance.yahoo.com/news/census-bureau-3-8-million-100000978.html', 'Russia Confounds the West by Recapturing Its Oil Riches': 'https://www.wsj.com/articles/russia-confounds-the-west-by-recapturing-its-oil-riches-11661781928?siteid=yhoof2&yptr=yahoo', '3 top dividend stocks from Goldman Sachs — nail down an inflation-fighting yield as high as 13.3%': 'https://finance.yahoo.com/news/3-top-dividend-stocks-goldman-133000044.html', 'Stocks May Be Headed for a Major Skid': 'https://www.thestreet.com/investing/stocks-may-be-headed-for-a-major-skid?puc=yahoo&cm_ven=YAHOO&yptr=yahoo', 'Everyone’s a Landlord—Small-Time Investors Snap Up Out-of-State Properties': 'https://www.wsj.com/articles/everyones-a-landlordsmall-time-investors-snap-up-out-of-state-properties-11661705278?siteid=yhoof2&yptr=yahoo', 'I’m 62, single and never had a retirement account. I have $100,000 to invest, but is it too late?': 'https://www.marketwatch.com/story/im-62-single-and-never-had-a-retirement-account-i-have-100-000-to-invest-but-is-it-too-late-11661552228?siteid=yhoof2&yptr=yahoo', 'This Is How Rich You Have to Be To Get a Wealth Manager': 'https://finance.yahoo.com/news/wealth-management-worth-171209068.html', 'Top Funds Ignore Nvidia But Scoop Up Shares In This Chip Stock': 'https://www.investors.com/research/how-to-find-the-best-stocks-to-buy/mpwr-stock-top-funds-ignore-nvidia-in-favor-of-this-chip-stock/?src=A00220&yptr=yahoo', 'Can Series I Savings Bonds or TIPS Get You Richer Quicker?': 'https://finance.yahoo.com/news/series-savings-bonds-tips-richer-130042027.html', 'Best of Barron’s: Social Security Claiming, Retiring on Dividends, Info on RMDs': 'https://www.barrons.com/articles/retirement-rmd-401k-dividends-social-security-51661526150?siteid=yhoof2&yptr=yahoo', \"Could China’s Yuan replace the U.S. dollar as the world’s dominant currency? Here’s how the Asian nation's trade supremacy is rapidly boosting its reserve status\": 'https://finance.yahoo.com/news/could-china-yuan-replace-u-194500498.html', 'Top stocks moving after hours: Peloton, Bed Bath & Beyond and more': 'https://finance.yahoo.com/news/top-stocks-moving-after-hours-peloton-bed-bath-beyond-and-more-221316288.html', 'How much cash should investors be holding? Experts weigh in': 'https://finance.yahoo.com/news/how-much-cash-should-investors-be-holding-experts-weigh-in-153906209.html', 'This Is How Much a $500K Annuity Pays Per Month': 'https://finance.yahoo.com/news/much-does-500k-annuity-pay-120000949.html', 'Goldman Sachs’ 2 Stock Picks With at Least 100% Upside Potential': 'https://finance.yahoo.com/news/goldman-sachs-despite-turbulent-economy-224536710.html', 'Rivian Delivers First SUVs To Non-Employees; Is RIVN Stock A Buy?': 'https://www.investors.com/news/rivian-stock-to-buy-rivian-ipo/?src=A00220&yptr=yahoo', 'Canoo, the EV startup that scored a deal with the world’s largest retailer, is a mess under the hood': 'https://finance.yahoo.com/news/canoo-ev-startup-scored-deal-100841631.html', 'Tesla stock is set to rip higher, analyst says after visiting Germany Gigafactory': 'https://finance.yahoo.com/news/tesla-stock-higher-analyst-projects-162251174.html', 'Fed’s QT to Hit ‘Full Stride’ With Central Bank Shrinking $9 Trillion Portfolio': 'https://finance.yahoo.com/news/fed-qt-hit-full-stride-172449002.html', 'Plug Power Inks Deal To Supply Amazon With Hydrogen; Is PLUG Stock A Buy?': 'https://www.investors.com/news/plug-power-stock-buy-now/?src=A00220&yptr=yahoo', 'Trump’s Truth Social reportedly owes over $1 million in backdated payments': 'https://finance.yahoo.com/news/trump-truth-social-reportedly-owes-181547712.html', 'September Is Usually a Bad Month For Stocks. This One Could Be Ugly.': 'https://www.barrons.com/articles/stock-market-bad-september-51661192077?siteid=yhoof2&yptr=yahoo', 'U.S.-China relations just got a whole lot better, boosting the prospects of these three stocks': 'https://www.marketwatch.com/story/u-s-china-relations-just-got-a-whole-lot-better-boosting-the-prospects-of-these-three-stocks-11661682894?siteid=yhoof2&yptr=yahoo', 'This asset class is poised to rise 38% because markets overestimate risk of global recession, Goldman says': 'https://www.marketwatch.com/story/this-asset-class-is-poised-to-rise-38-because-markets-overestimate-risk-of-global-recession-goldman-says-11661771873?siteid=yhoof2&yptr=yahoo', \"Forget washing dishes or bagging groceries — teens are seizing whatever jobs they want as 'desperate' employers try to fill seats\": 'https://finance.yahoo.com/news/forget-washing-dishes-bagging-groceries-100000700.html', \"City's reliance on Amazon and Google leaves regulators worried\": 'https://finance.yahoo.com/news/citys-reliance-amazon-google-leaves-070000217.html', 'Is Apple Stock A Buy Ahead Of iPhone 14 Launch Event?': 'https://www.investors.com/research/apple-stock-buy-now/?src=A00220&yptr=yahoo', 'Succession, Spinoffs in Focus in Billionaire Ambani’s Big Speech': 'https://finance.yahoo.com/news/succession-spinoffs-focus-billionaire-ambani-210000304.html', 'Fisker Ocean Looks to Make Splash in the EV World': 'https://www.thestreet.com/investing/fisker-ocean-looks-to-make-splash-in-the-ev-world?puc=yahoo&cm_ven=YAHOO&yptr=yahoo', 'You Can Make This Much Retirement Income Without Paying Taxes': 'https://finance.yahoo.com/news/much-retired-person-earn-without-205612737.html', 'These 5 Steel Stocks Stand Solid, Near Buy Points, As Market Retreats': 'https://www.investors.com/news/steel-stocks-stand-solid-near-buy-points-as-market-retreats/?src=A00220&yptr=yahoo', '6 Dow stocks having a rough summer': 'https://finance.yahoo.com/news/6-dow-stocks-having-an-awful-summer-102158197.html', 'Goldman Says Buy Commodities, ‘Worry About Recession Later’': 'https://finance.yahoo.com/news/goldman-says-buy-commodities-now-051359145.html', 'Passive Income Stream Or Yield Trap - Are High Dividend REITs Worth The Risk?': 'https://finance.yahoo.com/news/passive-income-stream-yield-trap-170509289.html', \"Is AMD Stock A Buy After Chipmaker's Quarterly Report?\": 'https://www.investors.com/news/technology/amd-stock-buy-now/?src=A00220&yptr=yahoo', 'Lululemon stock is a crash waiting to happen, analyst argues': 'https://finance.yahoo.com/news/lululemon-stock-analyst-argues-170117012.html', 'Dow Jones Reverses; Elon Musk Makes This Twitter Move; Coinbase Falls As Bitcoin Rises': 'https://www.investors.com/market-trend/stock-market-today/dow-jones-fights-back-elon-musk-subpoenas-this-twitter-employee-coinbase-rallies-as-bitcoin-gains/?src=A00220&yptr=yahoo', 'Panic Button Is Nowhere in Sight as Memory of 7th S&P Rout Fades': 'https://finance.yahoo.com/news/panic-button-nowhere-sight-memory-201850011.html', 'Bed Bath & Beyond stock rockets a day ahead of ‘strategic update’': 'https://www.marketwatch.com/story/bed-bath-beyond-stock-surges-again-ahead-of-strategic-update-11661788685?siteid=yhoof2&yptr=yahoo', 'Stock market live updates: Stocks fall, Treasury yields jump as investors face hawkish Fed': 'https://finance.yahoo.com/news/stock-market-news-live-updates-august-29-2022-114034238.html', 'These Are The 5 Best Stocks To Buy And Watch Now': 'https://www.investors.com/research/best-stocks-to-buy-now/?src=A00220&yptr=yahoo', 'Is Tesla A Buy With Its Stock Split Finished As Production Improves?': 'https://www.investors.com/news/technology/tesla-stock-is-it-a-buy-now/?src=A00220&yptr=yahoo', '‘Trade With Caution,’ Says Oppenheimer; Here Are 2 Stocks to Consider': 'https://finance.yahoo.com/news/trade-caution-says-oppenheimer-2-111539430.html', 'Inventory Pileup, Uneasy Shoppers Put Retailers in Jeopardy': 'https://www.wsj.com/articles/inventory-pileup-uneasy-shoppers-put-retailers-in-jeopardy-11661690106?siteid=yhoof2&yptr=yahoo'}\n"
     ]
    }
   ],
   "source": [
    "# create a dictionary title:link\n",
    "myfeed={}\n",
    "for entry in feed_entries:\n",
    "    art_title = entry.title\n",
    "    art_link = entry.link\n",
    "    \n",
    "    myfeed[art_title]=art_link\n",
    "    \n",
    "print(myfeed) "
   ]
  },
  {
   "cell_type": "code",
   "execution_count": 40,
   "id": "90813f32",
   "metadata": {},
   "outputs": [
    {
     "name": "stdout",
     "output_type": "stream",
     "text": [
      "number of links:381\n",
      "\n",
      "first link:https://www.ust.edu.ph/\n",
      "\n",
      "['https://www.ust.edu.ph/', 'https://www.ust.edu.ph/', 'https://www.ust.edu.ph/', 'https://www.ust.edu.ph/the-university/', 'https://www.ust.edu.ph/academics/', 'https://www.ust.edu.ph/research/', 'https://www.ust.edu.ph/community-development/', 'https://www.ust.edu.ph/campus-life/', 'https://www.ust.edu.ph/faith/', 'https://www.ust.edu.ph/linkages/', 'https://www.ust.edu.ph/services/', 'https://www.ust.edu.ph/contacts/', 'https://www.ust.edu.ph/usts-covid-19-response/', 'https://www.ust.edu.ph/jobsust-ust-senior-high-school-faculty-members/', 'https://www.ust.edu.ph/jobsust-support-staff/', 'https://www.ust.edu.ph/jobsust-college-of-science-faculty-members/', 'https://www.ust.edu.ph/jobsust-research-center-for-health-sciences/', 'https://www.ust.edu.ph/jobsust-ust-junior-high-school-faculty-members/', 'https://ofad.ust.edu.ph/', 'https://ofad.ust.edu.ph/', 'https://www.ust.edu.ph//academics/', 'https://www.ust.edu.ph//research/', 'https://www.ust.edu.ph//community-development/', 'https://www.ust.edu.ph//faith/', 'https://www.ust.edu.ph//campus-life/', 'https://www.ust.edu.ph//academia/', 'https://www.ust.edu.ph//linkages/', 'https://www.ust.edu.ph//linkages/', 'http://refi.ust.edu.ph/', 'https://www.ust.edu.ph//linkages/', 'https://www.ust.edu.ph//administrative-offices/office-of-alumni-relations/', 'https://myuste.ust.edu.ph/', 'https://www.elearningust.info/', 'http://guruspatio.ust.edu.net/', 'http://library.ust.edu.ph/', 'https://login.microsoftonline.com/common/oauth2/authorize?client_id=4345a7b9-9a63-4910-a426-35363201d503&redirect_uri=https%3A%2F%2Fwww.office.com%2Flanding&response_type=code%20id_token&scope=openid%20profile&response_mode=form_post&nonce=637189071760191763.NGI4NzU4ODQtMjJmMi00YjQ0LThhMGYtMDYxMjdiYjM0Y2FhZmRlZmIwYzAtMTM2Yy00ZTk5LTk2Y2UtNmViMGI0OGFiMTg5&ui_locales=en-US&mkt=en-US&client-request-id=09c276cd-9073-40b9-b39d-4b7e66670b40&state=StWwE-iywuvf_lmHQA3NAS0604CwwCN-yrRgswFKJM87t2E6mEE-VBteuUAJ_FuKEH5oENbS2-X9dd4Y-gaYi8WcFBg9KBMX2GgNq1Q96_iw26S_MmsjHoHu6wYLJooeghwCuzaIG77rguMijCosFDwldc9-f-ylUe3Gh2l_oH8hByXNRPuQGpfh3PuXYnq83u87GZ3tMbrH5ewy7KSVWinukBHOFLmZqo4W2dtceluTpX_PAwdZxUeQNXDXj_f2Ta6c7OGrYpgUH0XI3F8ZJoqe3RcSuxEJaxjRdJm4NZM&x-client-SKU=ID_NETSTANDARD2_0&x-client-ver=6.3.0.0', 'https://www.ust.edu.ph/ust-virtual-tour/', 'https://ofad.ust.edu.ph/', 'https://ofad.ust.edu.ph/', 'https://www.ust.edu.ph//academics/', 'https://www.ust.edu.ph//research/', 'https://www.ust.edu.ph//community-development/', 'https://www.ust.edu.ph//faith/', 'https://www.ust.edu.ph//campus-life/', 'https://www.ust.edu.ph//academia/', 'https://www.ust.edu.ph//linkages/', 'https://www.ust.edu.ph//linkages/', 'http://refi.ust.edu.ph/', 'https://www.ust.edu.ph//linkages/', 'https://alumnirelations.ust.edu.ph/', 'https://myuste.ust.edu.ph/', 'https://www.elearningust.info/', 'http://guruspatio.ust.edu.net/', 'http://library.ust.edu.ph/', 'https://login.microsoftonline.com/common/oauth2/authorize?client_id=4345a7b9-9a63-4910-a426-35363201d503&redirect_uri=https%3A%2F%2Fwww.office.com%2Flanding&response_type=code%20id_token&scope=openid%20profile&response_mode=form_post&nonce=637189071760191763.NGI4NzU4ODQtMjJmMi00YjQ0LThhMGYtMDYxMjdiYjM0Y2FhZmRlZmIwYzAtMTM2Yy00ZTk5LTk2Y2UtNmViMGI0OGFiMTg5&ui_locales=en-US&mkt=en-US&client-request-id=09c276cd-9073-40b9-b39d-4b7e66670b40&state=StWwE-iywuvf_lmHQA3NAS0604CwwCN-yrRgswFKJM87t2E6mEE-VBteuUAJ_FuKEH5oENbS2-X9dd4Y-gaYi8WcFBg9KBMX2GgNq1Q96_iw26S_MmsjHoHu6wYLJooeghwCuzaIG77rguMijCosFDwldc9-f-ylUe3Gh2l_oH8hByXNRPuQGpfh3PuXYnq83u87GZ3tMbrH5ewy7KSVWinukBHOFLmZqo4W2dtceluTpX_PAwdZxUeQNXDXj_f2Ta6c7OGrYpgUH0XI3F8ZJoqe3RcSuxEJaxjRdJm4NZM&x-client-SKU=ID_NETSTANDARD2_0&x-client-ver=6.3.0.0', 'https://www.ust.edu.ph/ust-virtual-tour/', 'http://ict-services.ust.edu.ph/', 'https://ofad.ust.edu.ph/', 'https://ofad.ust.edu.ph/', 'https://www.ust.edu.ph//academics/', 'https://www.ust.edu.ph//research/', 'https://www.ust.edu.ph//community-development/', 'https://www.ust.edu.ph//faith/', 'https://www.ust.edu.ph//campus-life/', 'https://www.ust.edu.ph//academia/', 'https://www.ust.edu.ph//linkages/', 'https://www.ust.edu.ph//linkages/', 'http://refi.ust.edu.ph/', 'https://www.ust.edu.ph//linkages/', 'https://www.ust.edu.ph//administrative-offices/office-of-alumni-relations/', 'https://myuste.ust.edu.ph/', 'https://www.elearningust.info/', 'http://guruspatio.ust.edu.net/', 'http://library.ust.edu.ph/', 'https://login.microsoftonline.com/common/oauth2/authorize?client_id=4345a7b9-9a63-4910-a426-35363201d503&redirect_uri=https%3A%2F%2Fwww.office.com%2Flanding&response_type=code%20id_token&scope=openid%20profile&response_mode=form_post&nonce=637189071760191763.NGI4NzU4ODQtMjJmMi00YjQ0LThhMGYtMDYxMjdiYjM0Y2FhZmRlZmIwYzAtMTM2Yy00ZTk5LTk2Y2UtNmViMGI0OGFiMTg5&ui_locales=en-US&mkt=en-US&client-request-id=09c276cd-9073-40b9-b39d-4b7e66670b40&state=StWwE-iywuvf_lmHQA3NAS0604CwwCN-yrRgswFKJM87t2E6mEE-VBteuUAJ_FuKEH5oENbS2-X9dd4Y-gaYi8WcFBg9KBMX2GgNq1Q96_iw26S_MmsjHoHu6wYLJooeghwCuzaIG77rguMijCosFDwldc9-f-ylUe3Gh2l_oH8hByXNRPuQGpfh3PuXYnq83u87GZ3tMbrH5ewy7KSVWinukBHOFLmZqo4W2dtceluTpX_PAwdZxUeQNXDXj_f2Ta6c7OGrYpgUH0XI3F8ZJoqe3RcSuxEJaxjRdJm4NZM&x-client-SKU=ID_NETSTANDARD2_0&x-client-ver=6.3.0.0', 'https://ofad.ust.edu.ph/', 'https://www.ust.edu.ph//?cat=1', 'http://alumnirelations.ust.edu.ph/', 'https://www.ust.edu.ph//contacts/', 'https://www.ust.edu.ph/ust-racks-up-28-awards-in-9th-ph-student-quill-claims-3rd-place-in-school-of-the-year-tilt/', 'https://www.ust.edu.ph/ust-racks-up-28-awards-in-9th-ph-student-quill-claims-3rd-place-in-school-of-the-year-tilt/', 'https://www.ust.edu.ph/ust-racks-up-28-awards-in-9th-ph-student-quill-claims-3rd-place-in-school-of-the-year-tilt/', 'https://www.ust.edu.ph//?cat=1', 'https://www.ust.edu.ph/alumni-industry-government-aaig-2022-caravan-series/', 'https://www.ust.edu.ph/alumni-industry-government-aaig-2022-caravan-series/', 'https://www.ust.edu.ph/alumni-industry-government-aaig-2022-caravan-series/', 'https://www.ust.edu.ph/ust-student-awards-2022/', 'https://www.ust.edu.ph/ust-student-awards-2022/', 'https://www.ust.edu.ph/ust-student-awards-2022/', 'https://www.ust.edu.ph//?cat=26', 'https://www.ust.edu.ph//covid-19-frequently-asked-questions/', 'https://www.ust.edu.ph//usts-covid-19-response/', 'https://www.youtube.com/user/UST1611official/featured', 'https://www.ust.edu.ph/ust-racks-up-28-awards-in-9th-ph-student-quill-claims-3rd-place-in-school-of-the-year-tilt/', 'https://www.ust.edu.ph/ust-racks-up-28-awards-in-9th-ph-student-quill-claims-3rd-place-in-school-of-the-year-tilt/', 'https://www.ust.edu.ph/ust-racks-up-28-awards-in-9th-ph-student-quill-claims-3rd-place-in-school-of-the-year-tilt/', 'https://www.ust.edu.ph//?cat=1', 'https://www.ust.edu.ph/alumni-industry-government-aaig-2022-caravan-series/', 'https://www.ust.edu.ph/alumni-industry-government-aaig-2022-caravan-series/', 'https://www.ust.edu.ph/alumni-industry-government-aaig-2022-caravan-series/', 'https://www.ust.edu.ph/ust-student-awards-2022/', 'https://www.ust.edu.ph/ust-student-awards-2022/', 'https://www.ust.edu.ph/ust-student-awards-2022/', 'https://www.ust.edu.ph//?cat=26', 'https://www.ust.edu.ph//covid-19-frequently-asked-questions/', 'https://www.ust.edu.ph//usts-covid-19-response/', 'https://www.youtube.com/user/UST1611official/featured', 'https://www.ust.edu.ph//university-gallery/', 'https://www.ust.edu.ph/publishing-house-recaps-a-y-2021-2022-milestone-reveals-upcoming-titles/', 'https://www.ust.edu.ph/publishing-house-recaps-a-y-2021-2022-milestone-reveals-upcoming-titles/', 'https://www.ust.edu.ph/publishing-house-recaps-a-y-2021-2022-milestone-reveals-upcoming-titles/', 'https://www.ust.edu.ph/cbcp-vp-bishop-vergara-leads-misa-de-apertura-to-open-a-y-2022-2023/', 'https://www.ust.edu.ph/cbcp-vp-bishop-vergara-leads-misa-de-apertura-to-open-a-y-2022-2023/', 'https://www.ust.edu.ph/cbcp-vp-bishop-vergara-leads-misa-de-apertura-to-open-a-y-2022-2023/', 'https://www.ust.edu.ph/ocampo-of-ir-receives-second-place-in-cmaa-2022-for-prayer-resource-book/', 'https://www.ust.edu.ph/ocampo-of-ir-receives-second-place-in-cmaa-2022-for-prayer-resource-book/', 'https://www.ust.edu.ph/ocampo-of-ir-receives-second-place-in-cmaa-2022-for-prayer-resource-book/', 'https://www.ust.edu.ph/natl-catechetical-study-turns-over-7-volume-output-during-ambag-500-retreat/', 'https://www.ust.edu.ph/natl-catechetical-study-turns-over-7-volume-output-during-ambag-500-retreat/', 'https://www.ust.edu.ph/natl-catechetical-study-turns-over-7-volume-output-during-ambag-500-retreat/', 'https://www.ust.edu.ph//category/faith/', 'https://www.ust.edu.ph/six-topnotchers-lead-194-new-medical-technologists/', 'https://www.ust.edu.ph/six-topnotchers-lead-194-new-medical-technologists/', 'https://www.ust.edu.ph/six-topnotchers-lead-194-new-medical-technologists/', 'https://www.ust.edu.ph/camurungan-of-ehs-wins-bronze-medal-in-global-math-tilt/', 'https://www.ust.edu.ph/camurungan-of-ehs-wins-bronze-medal-in-global-math-tilt/', 'https://www.ust.edu.ph/camurungan-of-ehs-wins-bronze-medal-in-global-math-tilt/', 'https://www.ust.edu.ph/ust-racks-up-28-awards-in-9th-ph-student-quill-claims-3rd-place-in-school-of-the-year-tilt/', 'https://www.ust.edu.ph/ust-racks-up-28-awards-in-9th-ph-student-quill-claims-3rd-place-in-school-of-the-year-tilt/', 'https://www.ust.edu.ph/ust-racks-up-28-awards-in-9th-ph-student-quill-claims-3rd-place-in-school-of-the-year-tilt/', 'https://www.ust.edu.ph/nurse-who-administered-worlds-first-covid-19-vaccine-returns-home/', 'https://www.ust.edu.ph/nurse-who-administered-worlds-first-covid-19-vaccine-returns-home/', 'https://www.ust.edu.ph/nurse-who-administered-worlds-first-covid-19-vaccine-returns-home/', 'https://www.ust.edu.ph//category/academics/', 'https://www.ust.edu.ph/publishing-house-recaps-a-y-2021-2022-milestone-reveals-upcoming-titles/', 'https://www.ust.edu.ph/publishing-house-recaps-a-y-2021-2022-milestone-reveals-upcoming-titles/', 'https://www.ust.edu.ph/publishing-house-recaps-a-y-2021-2022-milestone-reveals-upcoming-titles/', 'https://www.ust.edu.ph/castillo-is-hailed-2021-best-mentor-in-health-research/', 'https://www.ust.edu.ph/castillo-is-hailed-2021-best-mentor-in-health-research/', 'https://www.ust.edu.ph/castillo-is-hailed-2021-best-mentor-in-health-research/', 'https://www.ust.edu.ph/dimaano-is-2022-prc-most-outstanding-professional-in-chemical-engineering/', 'https://www.ust.edu.ph/dimaano-is-2022-prc-most-outstanding-professional-in-chemical-engineering/', 'https://www.ust.edu.ph/dimaano-is-2022-prc-most-outstanding-professional-in-chemical-engineering/', 'https://www.ust.edu.ph/crs-ethics-review-committee-receives-phreb-nod-for-two-year-accreditation/', 'https://www.ust.edu.ph/crs-ethics-review-committee-receives-phreb-nod-for-two-year-accreditation/', 'https://www.ust.edu.ph/crs-ethics-review-committee-receives-phreb-nod-for-two-year-accreditation/', 'https://www.ust.edu.ph//category/research/', 'https://www.ust.edu.ph/ong-flores-of-qs-the-rankings-provides-qs-stars-training-for-bukidnon-state-university/', 'https://www.ust.edu.ph/ong-flores-of-qs-the-rankings-provides-qs-stars-training-for-bukidnon-state-university/', 'https://www.ust.edu.ph/ong-flores-of-qs-the-rankings-provides-qs-stars-training-for-bukidnon-state-university/', 'https://www.ust.edu.ph/ocampo-of-ir-receives-second-place-in-cmaa-2022-for-prayer-resource-book/', 'https://www.ust.edu.ph/ocampo-of-ir-receives-second-place-in-cmaa-2022-for-prayer-resource-book/', 'https://www.ust.edu.ph/ocampo-of-ir-receives-second-place-in-cmaa-2022-for-prayer-resource-book/', 'https://www.ust.edu.ph/caliwan-marasigan-of-accountancy-elected-to-nacpae-board-of-trustees/', 'https://www.ust.edu.ph/caliwan-marasigan-of-accountancy-elected-to-nacpae-board-of-trustees/', 'https://www.ust.edu.ph/caliwan-marasigan-of-accountancy-elected-to-nacpae-board-of-trustees/', 'https://www.ust.edu.ph/eastern-visayas-food-mapping-project-kicks-off-with-ust-dot-moa/', 'https://www.ust.edu.ph/eastern-visayas-food-mapping-project-kicks-off-with-ust-dot-moa/', 'https://www.ust.edu.ph/eastern-visayas-food-mapping-project-kicks-off-with-ust-dot-moa/', 'https://www.ust.edu.ph//category/linkages/', 'https://www.ust.edu.ph/nursing-junior-holds-relief-drive-for-residents-afflicted-by-typhoon-odette/', 'https://www.ust.edu.ph/nursing-junior-holds-relief-drive-for-residents-afflicted-by-typhoon-odette/', 'https://www.ust.edu.ph/nursing-junior-holds-relief-drive-for-residents-afflicted-by-typhoon-odette/', 'https://www.ust.edu.ph/ust-launches-two-manuals-on-community-engagement-and-organizing-and-on-student-affairs-and-services/', 'https://www.ust.edu.ph/ust-launches-two-manuals-on-community-engagement-and-organizing-and-on-student-affairs-and-services/', 'https://www.ust.edu.ph/ust-launches-two-manuals-on-community-engagement-and-organizing-and-on-student-affairs-and-services/', 'https://www.ust.edu.ph/thomasian-alumni-leaders-celebrate-simbang-gabi-with-9-days-of-giving/', 'https://www.ust.edu.ph/thomasian-alumni-leaders-celebrate-simbang-gabi-with-9-days-of-giving/', 'https://www.ust.edu.ph/thomasian-alumni-leaders-celebrate-simbang-gabi-with-9-days-of-giving/', 'https://www.ust.edu.ph/denr-recognizes-college-of-science-for-environment-related-comm-devt-efforts/', 'https://www.ust.edu.ph/denr-recognizes-college-of-science-for-environment-related-comm-devt-efforts/', 'https://www.ust.edu.ph/denr-recognizes-college-of-science-for-environment-related-comm-devt-efforts/', 'https://www.ust.edu.ph//category/comm-dev/', 'https://www.ust.edu.ph/camurungan-of-ehs-wins-bronze-medal-in-global-math-tilt/', 'https://www.ust.edu.ph/camurungan-of-ehs-wins-bronze-medal-in-global-math-tilt/', 'https://www.ust.edu.ph/camurungan-of-ehs-wins-bronze-medal-in-global-math-tilt/', 'https://www.ust.edu.ph/ust-racks-up-28-awards-in-9th-ph-student-quill-claims-3rd-place-in-school-of-the-year-tilt/', 'https://www.ust.edu.ph/ust-racks-up-28-awards-in-9th-ph-student-quill-claims-3rd-place-in-school-of-the-year-tilt/', 'https://www.ust.edu.ph/ust-racks-up-28-awards-in-9th-ph-student-quill-claims-3rd-place-in-school-of-the-year-tilt/', 'https://www.ust.edu.ph/nurse-who-administered-worlds-first-covid-19-vaccine-returns-home/', 'https://www.ust.edu.ph/nurse-who-administered-worlds-first-covid-19-vaccine-returns-home/', 'https://www.ust.edu.ph/nurse-who-administered-worlds-first-covid-19-vaccine-returns-home/', 'https://www.ust.edu.ph/ust-unveils-new-tiger-statue-block-letters-to-cap-onboarding-week-2022/', 'https://www.ust.edu.ph/ust-unveils-new-tiger-statue-block-letters-to-cap-onboarding-week-2022/', 'https://www.ust.edu.ph/ust-unveils-new-tiger-statue-block-letters-to-cap-onboarding-week-2022/', 'https://www.ust.edu.ph//category/campus-life/', 'https://www.ust.edu.ph/six-topnotchers-lead-194-new-medical-technologists/', 'https://www.ust.edu.ph/six-topnotchers-lead-194-new-medical-technologists/', 'https://www.ust.edu.ph/six-topnotchers-lead-194-new-medical-technologists/', 'https://www.ust.edu.ph/nurse-who-administered-worlds-first-covid-19-vaccine-returns-home/', 'https://www.ust.edu.ph/nurse-who-administered-worlds-first-covid-19-vaccine-returns-home/', 'https://www.ust.edu.ph/nurse-who-administered-worlds-first-covid-19-vaccine-returns-home/', 'https://www.ust.edu.ph/ust-is-2-top-performing-school-in-june-2022-archt-boards-produces-3-topnotchers/', 'https://www.ust.edu.ph/ust-is-2-top-performing-school-in-june-2022-archt-boards-produces-3-topnotchers/', 'https://www.ust.edu.ph/ust-is-2-top-performing-school-in-june-2022-archt-boards-produces-3-topnotchers/', 'https://www.ust.edu.ph/three-thomasians-ace-june-2022-ot-and-pt-boards-ust-posts-100-passing-rate-in-pt-boards/', 'https://www.ust.edu.ph/three-thomasians-ace-june-2022-ot-and-pt-boards-ust-posts-100-passing-rate-in-pt-boards/', 'https://www.ust.edu.ph/three-thomasians-ace-june-2022-ot-and-pt-boards-ust-posts-100-passing-rate-in-pt-boards/', 'https://www.ust.edu.ph//category/alumni/', 'https://www.ust.edu.ph/ust-unveils-new-tiger-statue-block-letters-to-cap-onboarding-week-2022/', 'https://www.ust.edu.ph/ust-unveils-new-tiger-statue-block-letters-to-cap-onboarding-week-2022/', 'https://www.ust.edu.ph/ust-unveils-new-tiger-statue-block-letters-to-cap-onboarding-week-2022/', 'https://www.ust.edu.ph/ust-keeps-uaap-84-general-championship-crown-for-5th-straight-year/', 'https://www.ust.edu.ph/ust-keeps-uaap-84-general-championship-crown-for-5th-straight-year/', 'https://www.ust.edu.ph/ust-keeps-uaap-84-general-championship-crown-for-5th-straight-year/', 'https://www.ust.edu.ph/tiger-sands-fends-off-bulldogs-for-gold-and-3-peat-varga-named-mvp/', 'https://www.ust.edu.ph/tiger-sands-fends-off-bulldogs-for-gold-and-3-peat-varga-named-mvp/', 'https://www.ust.edu.ph/tiger-sands-fends-off-bulldogs-for-gold-and-3-peat-varga-named-mvp/', 'https://www.ust.edu.ph/physical-therapy-sports-science-depts-launch-tiger-sports-freehub-virtual-clinic-for-athletes/', 'https://www.ust.edu.ph/physical-therapy-sports-science-depts-launch-tiger-sports-freehub-virtual-clinic-for-athletes/', 'https://www.ust.edu.ph/physical-therapy-sports-science-depts-launch-tiger-sports-freehub-virtual-clinic-for-athletes/', 'https://www.ust.edu.ph//category/sports/', 'https://www.ust.edu.ph/meet-the-thomasian-sports-psychologist-in-the-hidilyn-diaz-camp-dr-karen-katrina-trinidad/', 'https://www.ust.edu.ph/meet-the-thomasian-sports-psychologist-in-the-hidilyn-diaz-camp-dr-karen-katrina-trinidad/', 'https://www.ust.edu.ph/meet-the-thomasian-sports-psychologist-in-the-hidilyn-diaz-camp-dr-karen-katrina-trinidad/', 'https://www.ust.edu.ph/ranera-of-music-wins-inaugural-best-musical-director-award-in-1st-leaf-awards/', 'https://www.ust.edu.ph/ranera-of-music-wins-inaugural-best-musical-director-award-in-1st-leaf-awards/', 'https://www.ust.edu.ph/ranera-of-music-wins-inaugural-best-musical-director-award-in-1st-leaf-awards/', 'https://www.ust.edu.ph/ust-now-enjoys-aun-qa-institutional-certification/', 'https://www.ust.edu.ph/ust-now-enjoys-aun-qa-institutional-certification/', 'https://www.ust.edu.ph/ust-now-enjoys-aun-qa-institutional-certification/', 'https://www.ust.edu.ph/the-thomasian-poet-in-contemporary-philippine-literature/', 'https://www.ust.edu.ph/the-thomasian-poet-in-contemporary-philippine-literature/', 'https://www.ust.edu.ph/the-thomasian-poet-in-contemporary-philippine-literature/', 'https://www.ust.edu.ph//category/spotlight/', 'https://www.ust.edu.ph/publishing-house-recaps-a-y-2021-2022-milestone-reveals-upcoming-titles/', 'https://www.ust.edu.ph/publishing-house-recaps-a-y-2021-2022-milestone-reveals-upcoming-titles/', 'https://www.ust.edu.ph/publishing-house-recaps-a-y-2021-2022-milestone-reveals-upcoming-titles/', 'https://www.ust.edu.ph/cbcp-vp-bishop-vergara-leads-misa-de-apertura-to-open-a-y-2022-2023/', 'https://www.ust.edu.ph/cbcp-vp-bishop-vergara-leads-misa-de-apertura-to-open-a-y-2022-2023/', 'https://www.ust.edu.ph/cbcp-vp-bishop-vergara-leads-misa-de-apertura-to-open-a-y-2022-2023/', 'https://www.ust.edu.ph/ocampo-of-ir-receives-second-place-in-cmaa-2022-for-prayer-resource-book/', 'https://www.ust.edu.ph/ocampo-of-ir-receives-second-place-in-cmaa-2022-for-prayer-resource-book/', 'https://www.ust.edu.ph/ocampo-of-ir-receives-second-place-in-cmaa-2022-for-prayer-resource-book/', 'https://www.ust.edu.ph/natl-catechetical-study-turns-over-7-volume-output-during-ambag-500-retreat/', 'https://www.ust.edu.ph/natl-catechetical-study-turns-over-7-volume-output-during-ambag-500-retreat/', 'https://www.ust.edu.ph/natl-catechetical-study-turns-over-7-volume-output-during-ambag-500-retreat/', 'https://www.ust.edu.ph//category/faith/', 'https://www.ust.edu.ph/six-topnotchers-lead-194-new-medical-technologists/', 'https://www.ust.edu.ph/six-topnotchers-lead-194-new-medical-technologists/', 'https://www.ust.edu.ph/six-topnotchers-lead-194-new-medical-technologists/', 'https://www.ust.edu.ph/camurungan-of-ehs-wins-bronze-medal-in-global-math-tilt/', 'https://www.ust.edu.ph/camurungan-of-ehs-wins-bronze-medal-in-global-math-tilt/', 'https://www.ust.edu.ph/camurungan-of-ehs-wins-bronze-medal-in-global-math-tilt/', 'https://www.ust.edu.ph/ust-racks-up-28-awards-in-9th-ph-student-quill-claims-3rd-place-in-school-of-the-year-tilt/', 'https://www.ust.edu.ph/ust-racks-up-28-awards-in-9th-ph-student-quill-claims-3rd-place-in-school-of-the-year-tilt/', 'https://www.ust.edu.ph/ust-racks-up-28-awards-in-9th-ph-student-quill-claims-3rd-place-in-school-of-the-year-tilt/', 'https://www.ust.edu.ph/nurse-who-administered-worlds-first-covid-19-vaccine-returns-home/', 'https://www.ust.edu.ph/nurse-who-administered-worlds-first-covid-19-vaccine-returns-home/', 'https://www.ust.edu.ph/nurse-who-administered-worlds-first-covid-19-vaccine-returns-home/', 'https://www.ust.edu.ph//category/academics/', 'https://www.ust.edu.ph/publishing-house-recaps-a-y-2021-2022-milestone-reveals-upcoming-titles/', 'https://www.ust.edu.ph/publishing-house-recaps-a-y-2021-2022-milestone-reveals-upcoming-titles/', 'https://www.ust.edu.ph/publishing-house-recaps-a-y-2021-2022-milestone-reveals-upcoming-titles/', 'https://www.ust.edu.ph/castillo-is-hailed-2021-best-mentor-in-health-research/', 'https://www.ust.edu.ph/castillo-is-hailed-2021-best-mentor-in-health-research/', 'https://www.ust.edu.ph/castillo-is-hailed-2021-best-mentor-in-health-research/', 'https://www.ust.edu.ph/dimaano-is-2022-prc-most-outstanding-professional-in-chemical-engineering/', 'https://www.ust.edu.ph/dimaano-is-2022-prc-most-outstanding-professional-in-chemical-engineering/', 'https://www.ust.edu.ph/dimaano-is-2022-prc-most-outstanding-professional-in-chemical-engineering/', 'https://www.ust.edu.ph/crs-ethics-review-committee-receives-phreb-nod-for-two-year-accreditation/', 'https://www.ust.edu.ph/crs-ethics-review-committee-receives-phreb-nod-for-two-year-accreditation/', 'https://www.ust.edu.ph/crs-ethics-review-committee-receives-phreb-nod-for-two-year-accreditation/', 'https://www.ust.edu.ph//category/research/', 'https://www.ust.edu.ph/ong-flores-of-qs-the-rankings-provides-qs-stars-training-for-bukidnon-state-university/', 'https://www.ust.edu.ph/ong-flores-of-qs-the-rankings-provides-qs-stars-training-for-bukidnon-state-university/', 'https://www.ust.edu.ph/ong-flores-of-qs-the-rankings-provides-qs-stars-training-for-bukidnon-state-university/', 'https://www.ust.edu.ph/ocampo-of-ir-receives-second-place-in-cmaa-2022-for-prayer-resource-book/', 'https://www.ust.edu.ph/ocampo-of-ir-receives-second-place-in-cmaa-2022-for-prayer-resource-book/', 'https://www.ust.edu.ph/ocampo-of-ir-receives-second-place-in-cmaa-2022-for-prayer-resource-book/', 'https://www.ust.edu.ph/caliwan-marasigan-of-accountancy-elected-to-nacpae-board-of-trustees/', 'https://www.ust.edu.ph/caliwan-marasigan-of-accountancy-elected-to-nacpae-board-of-trustees/', 'https://www.ust.edu.ph/caliwan-marasigan-of-accountancy-elected-to-nacpae-board-of-trustees/', 'https://www.ust.edu.ph/eastern-visayas-food-mapping-project-kicks-off-with-ust-dot-moa/', 'https://www.ust.edu.ph/eastern-visayas-food-mapping-project-kicks-off-with-ust-dot-moa/', 'https://www.ust.edu.ph/eastern-visayas-food-mapping-project-kicks-off-with-ust-dot-moa/', 'https://www.ust.edu.ph//category/linkages/', 'https://www.ust.edu.ph/nursing-junior-holds-relief-drive-for-residents-afflicted-by-typhoon-odette/', 'https://www.ust.edu.ph/nursing-junior-holds-relief-drive-for-residents-afflicted-by-typhoon-odette/', 'https://www.ust.edu.ph/nursing-junior-holds-relief-drive-for-residents-afflicted-by-typhoon-odette/', 'https://www.ust.edu.ph/ust-launches-two-manuals-on-community-engagement-and-organizing-and-on-student-affairs-and-services/', 'https://www.ust.edu.ph/ust-launches-two-manuals-on-community-engagement-and-organizing-and-on-student-affairs-and-services/', 'https://www.ust.edu.ph/ust-launches-two-manuals-on-community-engagement-and-organizing-and-on-student-affairs-and-services/', 'https://www.ust.edu.ph/thomasian-alumni-leaders-celebrate-simbang-gabi-with-9-days-of-giving/', 'https://www.ust.edu.ph/thomasian-alumni-leaders-celebrate-simbang-gabi-with-9-days-of-giving/', 'https://www.ust.edu.ph/thomasian-alumni-leaders-celebrate-simbang-gabi-with-9-days-of-giving/', 'https://www.ust.edu.ph/denr-recognizes-college-of-science-for-environment-related-comm-devt-efforts/', 'https://www.ust.edu.ph/denr-recognizes-college-of-science-for-environment-related-comm-devt-efforts/', 'https://www.ust.edu.ph/denr-recognizes-college-of-science-for-environment-related-comm-devt-efforts/', 'https://www.ust.edu.ph//category/comm-dev/', 'https://www.ust.edu.ph/camurungan-of-ehs-wins-bronze-medal-in-global-math-tilt/', 'https://www.ust.edu.ph/camurungan-of-ehs-wins-bronze-medal-in-global-math-tilt/', 'https://www.ust.edu.ph/camurungan-of-ehs-wins-bronze-medal-in-global-math-tilt/', 'https://www.ust.edu.ph/ust-racks-up-28-awards-in-9th-ph-student-quill-claims-3rd-place-in-school-of-the-year-tilt/', 'https://www.ust.edu.ph/ust-racks-up-28-awards-in-9th-ph-student-quill-claims-3rd-place-in-school-of-the-year-tilt/', 'https://www.ust.edu.ph/ust-racks-up-28-awards-in-9th-ph-student-quill-claims-3rd-place-in-school-of-the-year-tilt/', 'https://www.ust.edu.ph/nurse-who-administered-worlds-first-covid-19-vaccine-returns-home/', 'https://www.ust.edu.ph/nurse-who-administered-worlds-first-covid-19-vaccine-returns-home/', 'https://www.ust.edu.ph/nurse-who-administered-worlds-first-covid-19-vaccine-returns-home/', 'https://www.ust.edu.ph/ust-unveils-new-tiger-statue-block-letters-to-cap-onboarding-week-2022/', 'https://www.ust.edu.ph/ust-unveils-new-tiger-statue-block-letters-to-cap-onboarding-week-2022/', 'https://www.ust.edu.ph/ust-unveils-new-tiger-statue-block-letters-to-cap-onboarding-week-2022/', 'https://www.ust.edu.ph//category/campus-life/', 'https://www.ust.edu.ph/six-topnotchers-lead-194-new-medical-technologists/', 'https://www.ust.edu.ph/six-topnotchers-lead-194-new-medical-technologists/', 'https://www.ust.edu.ph/six-topnotchers-lead-194-new-medical-technologists/', 'https://www.ust.edu.ph/nurse-who-administered-worlds-first-covid-19-vaccine-returns-home/', 'https://www.ust.edu.ph/nurse-who-administered-worlds-first-covid-19-vaccine-returns-home/', 'https://www.ust.edu.ph/nurse-who-administered-worlds-first-covid-19-vaccine-returns-home/', 'https://www.ust.edu.ph/ust-is-2-top-performing-school-in-june-2022-archt-boards-produces-3-topnotchers/', 'https://www.ust.edu.ph/ust-is-2-top-performing-school-in-june-2022-archt-boards-produces-3-topnotchers/', 'https://www.ust.edu.ph/ust-is-2-top-performing-school-in-june-2022-archt-boards-produces-3-topnotchers/', 'https://www.ust.edu.ph/three-thomasians-ace-june-2022-ot-and-pt-boards-ust-posts-100-passing-rate-in-pt-boards/', 'https://www.ust.edu.ph/three-thomasians-ace-june-2022-ot-and-pt-boards-ust-posts-100-passing-rate-in-pt-boards/', 'https://www.ust.edu.ph/three-thomasians-ace-june-2022-ot-and-pt-boards-ust-posts-100-passing-rate-in-pt-boards/', 'https://www.ust.edu.ph//category/alumni/', 'https://www.ust.edu.ph/ust-unveils-new-tiger-statue-block-letters-to-cap-onboarding-week-2022/', 'https://www.ust.edu.ph/ust-unveils-new-tiger-statue-block-letters-to-cap-onboarding-week-2022/', 'https://www.ust.edu.ph/ust-unveils-new-tiger-statue-block-letters-to-cap-onboarding-week-2022/', 'https://www.ust.edu.ph/ust-keeps-uaap-84-general-championship-crown-for-5th-straight-year/', 'https://www.ust.edu.ph/ust-keeps-uaap-84-general-championship-crown-for-5th-straight-year/', 'https://www.ust.edu.ph/ust-keeps-uaap-84-general-championship-crown-for-5th-straight-year/', 'https://www.ust.edu.ph/tiger-sands-fends-off-bulldogs-for-gold-and-3-peat-varga-named-mvp/', 'https://www.ust.edu.ph/tiger-sands-fends-off-bulldogs-for-gold-and-3-peat-varga-named-mvp/', 'https://www.ust.edu.ph/tiger-sands-fends-off-bulldogs-for-gold-and-3-peat-varga-named-mvp/', 'https://www.ust.edu.ph/physical-therapy-sports-science-depts-launch-tiger-sports-freehub-virtual-clinic-for-athletes/', 'https://www.ust.edu.ph/physical-therapy-sports-science-depts-launch-tiger-sports-freehub-virtual-clinic-for-athletes/', 'https://www.ust.edu.ph/physical-therapy-sports-science-depts-launch-tiger-sports-freehub-virtual-clinic-for-athletes/', 'https://www.ust.edu.ph//category/sports/', 'https://www.ust.edu.ph/meet-the-thomasian-sports-psychologist-in-the-hidilyn-diaz-camp-dr-karen-katrina-trinidad/', 'https://www.ust.edu.ph/meet-the-thomasian-sports-psychologist-in-the-hidilyn-diaz-camp-dr-karen-katrina-trinidad/', 'https://www.ust.edu.ph/meet-the-thomasian-sports-psychologist-in-the-hidilyn-diaz-camp-dr-karen-katrina-trinidad/', 'https://www.ust.edu.ph/ranera-of-music-wins-inaugural-best-musical-director-award-in-1st-leaf-awards/', 'https://www.ust.edu.ph/ranera-of-music-wins-inaugural-best-musical-director-award-in-1st-leaf-awards/', 'https://www.ust.edu.ph/ranera-of-music-wins-inaugural-best-musical-director-award-in-1st-leaf-awards/', 'https://www.ust.edu.ph/ust-now-enjoys-aun-qa-institutional-certification/', 'https://www.ust.edu.ph/ust-now-enjoys-aun-qa-institutional-certification/', 'https://www.ust.edu.ph/ust-now-enjoys-aun-qa-institutional-certification/', 'https://www.ust.edu.ph/the-thomasian-poet-in-contemporary-philippine-literature/', 'https://www.ust.edu.ph/the-thomasian-poet-in-contemporary-philippine-literature/', 'https://www.ust.edu.ph/the-thomasian-poet-in-contemporary-philippine-literature/', 'https://www.ust.edu.ph//category/spotlight/', 'https://twitter.com/intent/tweet?text=Home&url=https%3A%2F%2Fwww.ust.edu.ph%2F', 'https://www.facebook.com/share.php?u=https%3A%2F%2Fwww.ust.edu.ph%2F', 'https://www.linkedin.com/cws/share?url=https%3A%2F%2Fwww.ust.edu.ph%2F', None, 'https://www.ust.edu.ph/', 'https://www.ust.edu.ph/privacy-policy/', 'https://www.themehorse.com', 'http://wordpress.org/', '#masthead', 'https://www.ust.edu.ph//academics/programs/', 'https://www.ust.edu.ph//tuition-fees/', 'https://www.ust.edu.ph//scholarship-programs/', 'https://www.ust.edu.ph//contacts/faculties-colleges-institutes-and-schools/', 'https://www.ust.edu.ph//campus-life/', 'https://www.ust.edu.ph//tuition-fees/', 'https://www.ust.edu.ph//scholarship-programs/', 'https://www.ust.edu.ph//campus-life/recognized-student-organizations/', 'https://www.ust.edu.ph//office-of-alumni-relations/', 'https://www.ust.edu.ph//the-outstanding-thomasian-alumni-awards/', 'http://alumnirelations.ust.edu.ph/', 'https://myuste.ust.edu.ph/', 'https://www.ust.edu.ph//academics/programs/', 'https://www.ust.edu.ph//office-for-student-affairs/', 'https://www.ust.edu.ph//campus-life/', 'https://www.ust.edu.ph//tuition-fees/', 'https://www.ust.edu.ph//statutes-and-organizational-structure/', 'https://www.ust.edu.ph//the-university/administrators/', 'https://www.ust.edu.ph//research/', 'https://journals.ust.edu.ph/', 'https://www.ust.edu.ph//research/researchers-a-z/', 'https://www.ust.edu.ph//linkages/', 'https://www.ust.edu.ph//linkages/', 'https://www.ust.edu.ph//linkages/', 'https://www.ust.edu.ph//academics/programs/', 'https://www.ust.edu.ph//research/', 'https://www.facebook.com/UST1611official/', 'http://www.twitter.com/@UST1611official', 'https://www.instagram.com/ust1611official/?hl=en', 'https://www.youtube.com/channel/UCtIuLagqhPp-W5wBICd74og']\n"
     ]
    }
   ],
   "source": [
    "# web scraping hyperlinks from a given site\n",
    "# beautifulsoup (bs4) html parser\n",
    "import requests\n",
    "from bs4 import BeautifulSoup\n",
    "\n",
    "url = \"https://www.ust.edu.ph/\"\n",
    "\n",
    "page = requests.get(url)\n",
    "data = page.text\n",
    "soup = BeautifulSoup(data,\"html.parser\")\n",
    "\n",
    "pagelinks=[]\n",
    "for link in soup.find_all('a'):\n",
    "    if(link.get('href')=='#' or link.get('href')=='#content'):\n",
    "        pass\n",
    "        # actions for link that begin \"#\"\n",
    "    else:\n",
    "        # print(link.get('href'))\n",
    "        pagelinks.append(link.get('href'))\n",
    "\n",
    "print(\"number of links:%i\\n\" %(len(pagelinks)))\n",
    "print(\"first link:%s\\n\" %(pagelinks[0]))\n",
    "print(pagelinks)\n"
   ]
  },
  {
   "cell_type": "code",
   "execution_count": 47,
   "id": "dd314046",
   "metadata": {},
   "outputs": [
    {
     "name": "stdout",
     "output_type": "stream",
     "text": [
      "/\n",
      "/\n",
      "/sell/\n",
      "/vehicles/h-144/\n",
      "/used-cars-for-sale/h-2702/\n",
      "/p/isuzu-lega-qkr-fb-body-2022-euro-4-3-0-intercooler-nhr-2021-2020-ivan-manual-1181733935/\n",
      "/u/jslauron/\n",
      "/p/mitsubishi-montero-glx-manual-1180487510/\n",
      "/u/shopatjai/\n",
      "/p/2016-honda-cr-v-crv-4x4-2-4-auto-1176514434/\n",
      "/u/fiveaces_iris/\n",
      "/p/2019-kia-soluto-1-4l-gl-mt-manual-1177665195/\n",
      "/u/ugartecarsmanila/\n",
      "/p/2019-mitsubishi-mirage-1-2-glx-auto-1160934994/\n",
      "/u/s88.cartrading/\n",
      "/p/toyota-fortuner-2-4v-matic-4x2-auto-1179076638/\n",
      "/u/samagero999/\n",
      "/p/toyota-hilux-2012-toyota-hilux-fx-manual-1177066249/\n",
      "/u/robcars/\n",
      "/p/2017-ford-explorer-2-3-ecoboost-limited-auto-1179844496/\n",
      "/u/reginapananim/\n",
      "/p/hyundai-g80-3-5t-twin-turbo-good-as-bnew-auto-1161270571/\n",
      "/u/myronemz8/\n",
      "/p/toyota-fortuner-2-4-g-variant-auto-1181730690/\n",
      "/u/chrlzesquivel9724693/\n",
      "/p/honda-city-1-5-vtec-a-1179881025/\n",
      "/u/makicalangi/\n",
      "/p/toyota-fortuner-2-7-7-seater-a-1180084475/\n",
      "/u/alan.alan10/\n",
      "/p/mitsubishi-lancer-glxi-pizza-pie-lancer-manual-1179648781/\n",
      "/u/mdaryl29/\n",
      "/p/mitsubishi-strada-2-5-glx-v-auto-1181526220/\n",
      "/u/junnannichi/\n",
      "/p/toyota-fortuner-2-7-a-1180947512/\n",
      "/u/jemcortes/\n",
      "/p/toyota-vios-1-5-e-a-1181123899/\n",
      "/u/marielau13/\n",
      "/p/ford-explorer-ecoboost-limited-2013-explorer-ecoboost-limited-2013-auto-1181192192/\n",
      "/u/black_gulaman/\n",
      "/p/toyota-rush-1-5-e-auto-1180426740/\n",
      "/u/junnannichi/\n",
      "/p/volvo-c30-2-0-a-1157865420/\n",
      "/u/mikee3/\n",
      "/p/ford-explorer-4x4-auto-1180853552/\n",
      "/u/garet_gomez/\n",
      "/p/ford-explorer-4x4-v6-top-of-the-line-auto-1180917701/\n",
      "/u/junnannichi/\n",
      "/p/mg-zs-1172860265/\n",
      "/u/mikee3/\n",
      "/p/lockdown-sale-2019-hyundai-reina-1-4-gl-manual-white-manual-1181171961/\n",
      "/u/nsgcartrading/\n",
      "/p/toyota-land-cruiser-gx-r-bullet-proof-b6-level-auto-1160415227/\n",
      "/u/mikee3/\n",
      "/p/mazda-cx-3-2017-skyactiv-pro-auto-1158910165/\n",
      "/u/carempire/\n",
      "/p/hyundai-starex-1168907756/\n",
      "/u/my_signature/\n",
      "/p/nissan-nv-350-urvan-van-manual-1173954472/\n",
      "/u/mikee3/\n",
      "/p/ford-explorer-sport-v6-auto-1180720480/\n",
      "/u/junnannichi/\n",
      "/p/toyota-camry-v6-auto-1180957786/\n",
      "/u/gee2518/\n",
      "/p/honda-city-1-5e-automatic-auto-1180367590/\n",
      "/u/nonong.gonzaga/\n",
      "/p/honda-br-v-1177447200/\n",
      "/u/junnannichi/\n",
      "/p/ford-explorer-4x4-auto-1181038827/\n",
      "/u/angely_lirio05/\n",
      "/p/honda-civic-1-8-a-1181731804/\n",
      "/u/jillromevitales/\n",
      "/p/ford-ranger-1180084108/\n",
      "/u/enriquevargas/\n",
      "/p/mazda-cx-7-2-5-a-1180174231/\n",
      "/u/ghadzcars/\n",
      "/p/audi-q7-diesel-auto-1181731742/\n",
      "/u/bccars_trading/\n",
      "/p/2017-mitsubishi-montero-sport-gls-at-diesel-auto-1181297922/\n",
      "/u/gmm052108/\n",
      "/p/subaru-xv-2-0i-s-a-1181525488/\n",
      "/u/junnannichi/\n",
      "/p/lockdown-sale-2018-foton-toplander-2-8-el-4x2-automatic-white-auto-1181168813/\n",
      "/u/nsgcartrading/\n",
      "/p/infiniti-qx80-5-6-v8-a-1180104077/\n",
      "/u/vincelf/\n",
      "/p/toyota-vios-1-3-j-manual-1181731577/\n",
      "/u/jon.lim1/\n",
      "/p/lockdown-sale-2020-mg-5-automatic-1-5-style-beige-auto-1166660692/\n",
      "/u/nsgcartrading/\n",
      "/p/kia-rio-1-4-a-1181731560/\n",
      "/u/yeezxus/\n",
      "/p/toyota-land-cruiser-prado-loaded-manual-1178938325/\n",
      "/u/tycoon_iconic/\n",
      "/p/volkswagen-kombi-1175763939/\n",
      "/u/jco88888/\n",
      "/p/ford-ranger-1176799540/\n",
      "/u/chrisyansa/\n",
      "/p/2016-toyota-prado-vx-auto-1070047046/\n",
      "/u/deehighendcars/\n",
      "/p/mazda-cx-5-2-0-pro-skyactivr-auto-1179100390/\n",
      "/u/junnannichi/\n"
     ]
    }
   ],
   "source": [
    "# web scrape elements using a specific class\n",
    "from bs4 import BeautifulSoup\n",
    "import requests\n",
    "\n",
    "def webscrape(pagenum,WebUrl):\n",
    "    if(pagenum>0):\n",
    "        url = WebUrl\n",
    "        page = requests.get(url)\n",
    "        data = page.text\n",
    "        s = BeautifulSoup(data,\"html.parser\")\n",
    "        \n",
    "        for link in s.find_all('a',{'class':'D_kR'}):\n",
    "        # for link in s.find_all('div',{'class':'D_EQ'}):\n",
    "            print(link.get('href'))\n",
    "            \n",
    "webscrape(1,\"https://www.carousell.ph/categories/vehicles-32/used-cars-for-sale-2151/?addRecent=true&canChangeKeyword=true&includeSuggestions=true&searchId=S5wcVp\")"
   ]
  },
  {
   "cell_type": "code",
   "execution_count": 49,
   "id": "4969a02c",
   "metadata": {},
   "outputs": [
    {
     "name": "stdout",
     "output_type": "stream",
     "text": [
      "{'campus.ministry@ust.edu.ph', 'edtech@ust.edu.ph', 'museum@ust.edu.ph', 'ofad@ust.edu.ph', 'healthservice@ust.edu.ph', 'international@ust.edu.ph', 'grants@ust.edu.ph', 'counseling.career.center@ust.edu.ph', 'hrd@ust.edu.ph', 'leso@ust.edu.ph', 'eleap.ust@gmail.com', 'alumnirelations@ust.edu.ph', 'cb.communications@ust.edu.ph'}\n"
     ]
    }
   ],
   "source": [
    "# emails\n",
    "# pip install email-scraper\n",
    "\n",
    "from email_scraper import scrape_emails\n",
    "from bs4 import BeautifulSoup\n",
    "import requests\n",
    "\n",
    "def getemails(target_url):\n",
    "    url = target_url\n",
    "    page = requests.get(url)\n",
    "    data = page.text\n",
    "    soup = BeautifulSoup(data,\"html.parser\")\n",
    "    emails = scrape_emails(soup.decode())\n",
    "    print(emails)\n",
    "\n",
    "getemails(\"https://www.ust.edu.ph/administrative-offices-contact/\")\n",
    "\n"
   ]
  },
  {
   "cell_type": "code",
   "execution_count": null,
   "id": "8961a860",
   "metadata": {},
   "outputs": [],
   "source": []
  }
 ],
 "metadata": {
  "kernelspec": {
   "display_name": "Python 3 (ipykernel)",
   "language": "python",
   "name": "python3"
  },
  "language_info": {
   "codemirror_mode": {
    "name": "ipython",
    "version": 3
   },
   "file_extension": ".py",
   "mimetype": "text/x-python",
   "name": "python",
   "nbconvert_exporter": "python",
   "pygments_lexer": "ipython3",
   "version": "3.10.4"
  }
 },
 "nbformat": 4,
 "nbformat_minor": 5
}
