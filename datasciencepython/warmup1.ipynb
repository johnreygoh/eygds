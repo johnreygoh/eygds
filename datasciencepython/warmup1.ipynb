{
 "cells": [
  {
   "cell_type": "markdown",
   "id": "9e6e93da",
   "metadata": {},
   "source": [
    "<b>Python</b> and <i>Jupyter Basics</i> "
   ]
  },
  {
   "cell_type": "markdown",
   "id": "03025d69",
   "metadata": {},
   "source": [
    "# jupyter basics\n",
    "## jupyter basics\n",
    "### jupyter basics"
   ]
  },
  {
   "cell_type": "code",
   "execution_count": 2,
   "id": "289cccff",
   "metadata": {},
   "outputs": [],
   "source": [
    "# string concatenation\n",
    "fn = \"john\"\n",
    "ln = \"doe\"\n",
    "x = fn + \" \" + ln"
   ]
  },
  {
   "cell_type": "code",
   "execution_count": 3,
   "id": "8930d9ad",
   "metadata": {},
   "outputs": [
    {
     "data": {
      "text/plain": [
       "'john doe'"
      ]
     },
     "execution_count": 3,
     "metadata": {},
     "output_type": "execute_result"
    }
   ],
   "source": [
    "# display output\n",
    "x"
   ]
  },
  {
   "cell_type": "code",
   "execution_count": null,
   "id": "ebc6070a",
   "metadata": {},
   "outputs": [],
   "source": []
  }
 ],
 "metadata": {
  "kernelspec": {
   "display_name": "Python 3 (ipykernel)",
   "language": "python",
   "name": "python3"
  },
  "language_info": {
   "codemirror_mode": {
    "name": "ipython",
    "version": 3
   },
   "file_extension": ".py",
   "mimetype": "text/x-python",
   "name": "python",
   "nbconvert_exporter": "python",
   "pygments_lexer": "ipython3",
   "version": "3.10.4"
  }
 },
 "nbformat": 4,
 "nbformat_minor": 5
}
