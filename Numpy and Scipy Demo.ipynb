{
 "cells": [
  {
   "cell_type": "markdown",
   "id": "6981874e-cf07-4f2a-a5da-7833c2c7747f",
   "metadata": {},
   "source": [
    "# NUMPY and SCIPY Demo"
   ]
  },
  {
   "cell_type": "code",
   "execution_count": 7,
   "id": "bedbff35-954c-43de-9e93-346d0e332ffc",
   "metadata": {},
   "outputs": [
    {
     "name": "stdout",
     "output_type": "stream",
     "text": [
      "Statistics for Sales:\n",
      "Mean: 229.86\n",
      "Median: 54.49\n",
      "Standard Deviation: 623.21\n",
      "\n",
      "Statistics for Quantity:\n",
      "Mean: 3.79\n",
      "Median: 3.00\n",
      "Standard Deviation: 2.22\n",
      "\n",
      "Statistics for Discount:\n",
      "Mean: 0.16\n",
      "Median: 0.20\n",
      "Standard Deviation: 0.21\n",
      "\n",
      "Statistics for Profit:\n",
      "Mean: 28.66\n",
      "Median: 8.67\n",
      "Standard Deviation: 234.25\n",
      "\n"
     ]
    }
   ],
   "source": [
    "import pandas as pd\n",
    "import numpy as np\n",
    "\n",
    "# Load the dataset\n",
    "data = pd.read_csv('SampleSuperstore.csv')\n",
    "\n",
    "# Selecting the numerical columns for analysis\n",
    "numerical_columns = ['Sales', 'Quantity', 'Discount', 'Profit']\n",
    "\n",
    "# Calculating basic statistics using NumPy\n",
    "for column in numerical_columns:\n",
    "    print(f\"Statistics for {column}:\")\n",
    "    print(f\"Mean: {np.mean(data[column]):.2f}\")\n",
    "    print(f\"Median: {np.median(data[column]):.2f}\")\n",
    "    print(f\"Standard Deviation: {np.std(data[column]):.2f}\")\n",
    "    print()\n"
   ]
  },
  {
   "cell_type": "code",
   "execution_count": 2,
   "id": "bc556970-2d9a-43a5-8505-6644267ec34a",
   "metadata": {},
   "outputs": [
    {
     "name": "stdout",
     "output_type": "stream",
     "text": [
      "Advanced statistics for Sales:\n",
      "Skewness: 12.970805179533526\n",
      "Kurtosis: 305.15842681749734\n",
      "\n",
      "Advanced statistics for Quantity:\n",
      "Skewness: 1.2783528478702606\n",
      "Kurtosis: 1.9902926633130011\n",
      "\n",
      "Advanced statistics for Discount:\n",
      "Skewness: 1.6840419409939928\n",
      "Kurtosis: 2.4077404949462338\n",
      "\n",
      "Advanced statistics for Profit:\n",
      "Skewness: 7.560296619477546\n",
      "Kurtosis: 396.9892286014973\n",
      "\n"
     ]
    }
   ],
   "source": [
    "import pandas as pd\n",
    "from scipy import stats\n",
    "\n",
    "# Load the dataset\n",
    "data = pd.read_csv('SampleSuperstore.csv')\n",
    "\n",
    "# Selecting the numerical columns for analysis\n",
    "numerical_columns = ['Sales', 'Quantity', 'Discount', 'Profit']\n",
    "\n",
    "# Calculating advanced statistics using SciPy\n",
    "for column in numerical_columns:\n",
    "    print(f\"Advanced statistics for {column}:\")\n",
    "    print(f\"Skewness: {stats.skew(data[column])}\")\n",
    "    print(f\"Kurtosis: {stats.kurtosis(data[column])}\")\n",
    "    print()\n"
   ]
  }
 ],
 "metadata": {
  "kernelspec": {
   "display_name": "Python 3 (ipykernel)",
   "language": "python",
   "name": "python3"
  },
  "language_info": {
   "codemirror_mode": {
    "name": "ipython",
    "version": 3
   },
   "file_extension": ".py",
   "mimetype": "text/x-python",
   "name": "python",
   "nbconvert_exporter": "python",
   "pygments_lexer": "ipython3",
   "version": "3.10.4"
  }
 },
 "nbformat": 4,
 "nbformat_minor": 5
}
