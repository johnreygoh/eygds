{
 "cells": [
  {
   "cell_type": "markdown",
   "id": "5e403098-f96b-42d8-bb18-4600095cdcfa",
   "metadata": {},
   "source": [
    "# Sample MySQL Connection Demo"
   ]
  },
  {
   "cell_type": "code",
   "execution_count": 4,
   "id": "dac74c9b-0b0d-444b-b59e-a344b33452d6",
   "metadata": {},
   "outputs": [],
   "source": [
    "# sample pythonn script\n",
    "# x = 23\n",
    "# y = 20\n",
    "# x+y"
   ]
  },
  {
   "cell_type": "code",
   "execution_count": 1,
   "id": "8dacdfe7-dcd0-44f3-b5ce-b6b697d0dfe1",
   "metadata": {},
   "outputs": [],
   "source": [
    "# run cmd\n",
    "# !pip list"
   ]
  },
  {
   "cell_type": "code",
   "execution_count": 2,
   "id": "30ae6d3e-1ed4-455c-927c-7df7f506d2e6",
   "metadata": {},
   "outputs": [],
   "source": [
    "# !dir"
   ]
  },
  {
   "cell_type": "code",
   "execution_count": 7,
   "id": "5fedf3b2-34ff-44a3-991b-abc1d11d6e1d",
   "metadata": {},
   "outputs": [
    {
     "name": "stdout",
     "output_type": "stream",
     "text": [
      "Requirement already satisfied: pymysql in c:\\users\\core360\\appdata\\local\\programs\\python\\python312\\lib\\site-packages (1.1.0)\n"
     ]
    }
   ],
   "source": [
    "!pip install pymysql"
   ]
  },
  {
   "cell_type": "code",
   "execution_count": 17,
   "id": "263c186f-fb41-4210-8501-cb07166974d9",
   "metadata": {},
   "outputs": [
    {
     "data": {
      "text/plain": [
       "((1, 'john', 'cena', 'hr', 2010),\n",
       " (2, 'aston', 'martin', 'mis', 2025),\n",
       " (3, 'leon', 'guerero', 'hr', 2010),\n",
       " (4, 'leona', 'guerero', 'hr', 2010),\n",
       " (5, 'kathryn', 'bernardo', 'mis', 2009))"
      ]
     },
     "execution_count": 17,
     "metadata": {},
     "output_type": "execute_result"
    }
   ],
   "source": [
    "# 10.241.42.218, eygds, eyadmin, 123\n",
    "import pymysql\n",
    "\n",
    "try:\n",
    "    h = '10.241.42.218'\n",
    "    u = 'eyadmin'\n",
    "    p = '123'\n",
    "    d = 'eygds'\n",
    "    connection = pymysql.connect(host=h,user=u,password=p,database=d)\n",
    "    \n",
    "    cursor = connection.cursor()\n",
    "    sql = \"select * from employees\"\n",
    "    cursor.execute(sql)\n",
    "    \n",
    "    records = cursor.fetchall()\n",
    "except Exception as e:\n",
    "    \n",
    "    e\n",
    "finally:\n",
    "    cursor.close()\n",
    "    connection.close()\n",
    "\n",
    "# show records\n",
    "records"
   ]
  },
  {
   "cell_type": "code",
   "execution_count": null,
   "id": "445af078-4f74-4ce5-8595-d43c6004f1d0",
   "metadata": {},
   "outputs": [],
   "source": []
  }
 ],
 "metadata": {
  "kernelspec": {
   "display_name": "Python 3 (ipykernel)",
   "language": "python",
   "name": "python3"
  },
  "language_info": {
   "codemirror_mode": {
    "name": "ipython",
    "version": 3
   },
   "file_extension": ".py",
   "mimetype": "text/x-python",
   "name": "python",
   "nbconvert_exporter": "python",
   "pygments_lexer": "ipython3",
   "version": "3.12.1"
  }
 },
 "nbformat": 4,
 "nbformat_minor": 5
}
