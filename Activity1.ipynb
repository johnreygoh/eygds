{
 "cells": [
  {
   "cell_type": "markdown",
   "id": "6145a6bb-4f61-44c3-a173-6223db8263b8",
   "metadata": {},
   "source": [
    "# Sample Superstore Dataset EDA"
   ]
  },
  {
   "cell_type": "code",
   "execution_count": 141,
   "id": "cd6d506d-00a3-4e73-a293-99a20fe80d90",
   "metadata": {},
   "outputs": [],
   "source": [
    "# install packages\n",
    "# python <=3.11\n",
    "# !pip install ydata-profiling"
   ]
  },
  {
   "cell_type": "code",
   "execution_count": 142,
   "id": "e46e9bf7-07fd-4e26-9bf3-e9be0e03f4dd",
   "metadata": {},
   "outputs": [],
   "source": [
    "import pandas as pd\n",
    "from ydata_profiling import ProfileReport"
   ]
  },
  {
   "cell_type": "code",
   "execution_count": 143,
   "id": "aa00e6db-57b4-43d8-9923-0ae2a422f686",
   "metadata": {},
   "outputs": [
    {
     "data": {
      "text/html": [
       "<div>\n",
       "<style scoped>\n",
       "    .dataframe tbody tr th:only-of-type {\n",
       "        vertical-align: middle;\n",
       "    }\n",
       "\n",
       "    .dataframe tbody tr th {\n",
       "        vertical-align: top;\n",
       "    }\n",
       "\n",
       "    .dataframe thead th {\n",
       "        text-align: right;\n",
       "    }\n",
       "</style>\n",
       "<table border=\"1\" class=\"dataframe\">\n",
       "  <thead>\n",
       "    <tr style=\"text-align: right;\">\n",
       "      <th></th>\n",
       "      <th>Ship Mode</th>\n",
       "      <th>Segment</th>\n",
       "      <th>Country</th>\n",
       "      <th>City</th>\n",
       "      <th>State</th>\n",
       "      <th>Postal Code</th>\n",
       "      <th>Region</th>\n",
       "      <th>Category</th>\n",
       "      <th>Sub-Category</th>\n",
       "      <th>Sales</th>\n",
       "      <th>Quantity</th>\n",
       "      <th>Discount</th>\n",
       "      <th>Profit</th>\n",
       "    </tr>\n",
       "  </thead>\n",
       "  <tbody>\n",
       "    <tr>\n",
       "      <th>0</th>\n",
       "      <td>Second Class</td>\n",
       "      <td>Consumer</td>\n",
       "      <td>United States</td>\n",
       "      <td>Henderson</td>\n",
       "      <td>Kentucky</td>\n",
       "      <td>42420</td>\n",
       "      <td>South</td>\n",
       "      <td>Furniture</td>\n",
       "      <td>Bookcases</td>\n",
       "      <td>261.9600</td>\n",
       "      <td>2</td>\n",
       "      <td>0.00</td>\n",
       "      <td>41.9136</td>\n",
       "    </tr>\n",
       "    <tr>\n",
       "      <th>1</th>\n",
       "      <td>Second Class</td>\n",
       "      <td>Consumer</td>\n",
       "      <td>United States</td>\n",
       "      <td>Henderson</td>\n",
       "      <td>Kentucky</td>\n",
       "      <td>42420</td>\n",
       "      <td>South</td>\n",
       "      <td>Furniture</td>\n",
       "      <td>Chairs</td>\n",
       "      <td>731.9400</td>\n",
       "      <td>3</td>\n",
       "      <td>0.00</td>\n",
       "      <td>219.5820</td>\n",
       "    </tr>\n",
       "    <tr>\n",
       "      <th>2</th>\n",
       "      <td>Second Class</td>\n",
       "      <td>Corporate</td>\n",
       "      <td>United States</td>\n",
       "      <td>Los Angeles</td>\n",
       "      <td>California</td>\n",
       "      <td>90036</td>\n",
       "      <td>West</td>\n",
       "      <td>Office Supplies</td>\n",
       "      <td>Labels</td>\n",
       "      <td>14.6200</td>\n",
       "      <td>2</td>\n",
       "      <td>0.00</td>\n",
       "      <td>6.8714</td>\n",
       "    </tr>\n",
       "    <tr>\n",
       "      <th>3</th>\n",
       "      <td>Standard Class</td>\n",
       "      <td>Consumer</td>\n",
       "      <td>United States</td>\n",
       "      <td>Fort Lauderdale</td>\n",
       "      <td>Florida</td>\n",
       "      <td>33311</td>\n",
       "      <td>South</td>\n",
       "      <td>Furniture</td>\n",
       "      <td>Tables</td>\n",
       "      <td>957.5775</td>\n",
       "      <td>5</td>\n",
       "      <td>0.45</td>\n",
       "      <td>-383.0310</td>\n",
       "    </tr>\n",
       "    <tr>\n",
       "      <th>4</th>\n",
       "      <td>Standard Class</td>\n",
       "      <td>Consumer</td>\n",
       "      <td>United States</td>\n",
       "      <td>Fort Lauderdale</td>\n",
       "      <td>Florida</td>\n",
       "      <td>33311</td>\n",
       "      <td>South</td>\n",
       "      <td>Office Supplies</td>\n",
       "      <td>Storage</td>\n",
       "      <td>22.3680</td>\n",
       "      <td>2</td>\n",
       "      <td>0.20</td>\n",
       "      <td>2.5164</td>\n",
       "    </tr>\n",
       "  </tbody>\n",
       "</table>\n",
       "</div>"
      ],
      "text/plain": [
       "        Ship Mode    Segment        Country             City       State  \\\n",
       "0    Second Class   Consumer  United States        Henderson    Kentucky   \n",
       "1    Second Class   Consumer  United States        Henderson    Kentucky   \n",
       "2    Second Class  Corporate  United States      Los Angeles  California   \n",
       "3  Standard Class   Consumer  United States  Fort Lauderdale     Florida   \n",
       "4  Standard Class   Consumer  United States  Fort Lauderdale     Florida   \n",
       "\n",
       "   Postal Code Region         Category Sub-Category     Sales  Quantity  \\\n",
       "0        42420  South        Furniture    Bookcases  261.9600         2   \n",
       "1        42420  South        Furniture       Chairs  731.9400         3   \n",
       "2        90036   West  Office Supplies       Labels   14.6200         2   \n",
       "3        33311  South        Furniture       Tables  957.5775         5   \n",
       "4        33311  South  Office Supplies      Storage   22.3680         2   \n",
       "\n",
       "   Discount    Profit  \n",
       "0      0.00   41.9136  \n",
       "1      0.00  219.5820  \n",
       "2      0.00    6.8714  \n",
       "3      0.45 -383.0310  \n",
       "4      0.20    2.5164  "
      ]
     },
     "execution_count": 143,
     "metadata": {},
     "output_type": "execute_result"
    }
   ],
   "source": [
    "df = pd.read_csv('SampleSuperstore.csv')\n",
    "df.head()"
   ]
  },
  {
   "cell_type": "code",
   "execution_count": 144,
   "id": "80cb7dff-ad0e-40ac-a7c6-50db1fc566cb",
   "metadata": {},
   "outputs": [],
   "source": [
    "df['City'] = df['City'].astype('category')"
   ]
  },
  {
   "cell_type": "code",
   "execution_count": 145,
   "id": "2f2fbd50-5dd3-4f1c-9667-6d9934682f3b",
   "metadata": {},
   "outputs": [],
   "source": [
    "# create data profile report\n",
    "# profile = ProfileReport(df,title='Sample Superstore Data Profile')\n",
    "# profile"
   ]
  },
  {
   "cell_type": "code",
   "execution_count": 146,
   "id": "9d7a7b54-5e4d-4eae-971c-57ac73c46da3",
   "metadata": {},
   "outputs": [
    {
     "data": {
      "application/json": {
       "ascii": false,
       "bar_format": null,
       "colour": null,
       "elapsed": 0.015433549880981445,
       "initial": 0,
       "n": 0,
       "ncols": null,
       "nrows": 23,
       "postfix": null,
       "prefix": "Export report to file",
       "rate": null,
       "total": 1,
       "unit": "it",
       "unit_divisor": 1000,
       "unit_scale": false
      },
      "application/vnd.jupyter.widget-view+json": {
       "model_id": "b757a3630d52448d823fa9fe921f94fd",
       "version_major": 2,
       "version_minor": 0
      },
      "text/plain": [
       "Export report to file:   0%|          | 0/1 [00:00<?, ?it/s]"
      ]
     },
     "metadata": {},
     "output_type": "display_data"
    }
   ],
   "source": [
    "# export data profile report as html\n",
    "profile.to_file('Sample Superstore Data Profile1.html')"
   ]
  },
  {
   "cell_type": "code",
   "execution_count": 147,
   "id": "b9030016-ba1b-4973-a120-c3435d8d71cf",
   "metadata": {},
   "outputs": [
    {
     "data": {
      "text/plain": [
       "9994"
      ]
     },
     "execution_count": 147,
     "metadata": {},
     "output_type": "execute_result"
    }
   ],
   "source": [
    "# data cleaning\n",
    "# check orig count\n",
    "df['Segment'].count()"
   ]
  },
  {
   "cell_type": "code",
   "execution_count": 148,
   "id": "8fae7f22-79ad-412d-85ba-e28fe9fee49c",
   "metadata": {},
   "outputs": [
    {
     "data": {
      "text/plain": [
       "Ship Mode       9977\n",
       "Segment         9977\n",
       "Country         9977\n",
       "City            9977\n",
       "State           9977\n",
       "Postal Code     9977\n",
       "Region          9977\n",
       "Category        9977\n",
       "Sub-Category    9977\n",
       "Sales           9977\n",
       "Quantity        9977\n",
       "Discount        9977\n",
       "Profit          9977\n",
       "dtype: int64"
      ]
     },
     "execution_count": 148,
     "metadata": {},
     "output_type": "execute_result"
    }
   ],
   "source": [
    "# after deleting duplicates\n",
    "df = df.drop_duplicates()\n",
    "df.count()"
   ]
  },
  {
   "cell_type": "code",
   "execution_count": null,
   "id": "a84eec23-e26a-446a-b5a5-4f261bd8e052",
   "metadata": {},
   "outputs": [
    {
     "data": {
      "application/json": {
       "ascii": false,
       "bar_format": null,
       "colour": null,
       "elapsed": 0,
       "initial": 0,
       "n": 0,
       "ncols": null,
       "nrows": 23,
       "postfix": null,
       "prefix": "Summarize dataset",
       "rate": null,
       "total": 5,
       "unit": "it",
       "unit_divisor": 1000,
       "unit_scale": false
      },
      "application/vnd.jupyter.widget-view+json": {
       "model_id": "6b2c7bb7b3c84b4cbb7734dcf05a15e2",
       "version_major": 2,
       "version_minor": 0
      },
      "text/plain": [
       "Summarize dataset:   0%|          | 0/5 [00:00<?, ?it/s]"
      ]
     },
     "metadata": {},
     "output_type": "display_data"
    }
   ],
   "source": [
    "ProfileReport(df,title='Sample Superstore Data Profile').to_file('nodups.html')"
   ]
  },
  {
   "cell_type": "code",
   "execution_count": null,
   "id": "013f0adf-e421-4fa7-92d7-f7228a9dfade",
   "metadata": {},
   "outputs": [],
   "source": [
    "# data prep and eda\n",
    "# df.head()\n",
    "# df.head(3)\n",
    "# df.tail()\n",
    "df.tail(2)\n"
   ]
  },
  {
   "cell_type": "code",
   "execution_count": null,
   "id": "735b9c87-ca95-4466-894a-9dec54f15cc2",
   "metadata": {},
   "outputs": [],
   "source": [
    "# export df as csv\n",
    "df.to_csv('nodupes.csv',index=True)"
   ]
  },
  {
   "cell_type": "code",
   "execution_count": null,
   "id": "d7dd781f-2a52-419c-b74a-80d4fc614b2f",
   "metadata": {},
   "outputs": [],
   "source": [
    "# display df info\n",
    "df.info()"
   ]
  },
  {
   "cell_type": "code",
   "execution_count": null,
   "id": "aa7a1ff9-5fa4-422a-b1b5-5b7f69916dac",
   "metadata": {},
   "outputs": [],
   "source": [
    "# description\n",
    "df.describe()"
   ]
  },
  {
   "cell_type": "code",
   "execution_count": null,
   "id": "ab605145-7cef-4d3b-a805-e2bccff71dd8",
   "metadata": {},
   "outputs": [],
   "source": [
    "df['Sales'].describe()"
   ]
  },
  {
   "cell_type": "code",
   "execution_count": null,
   "id": "9e4e8b9a-4521-4c4f-8a0c-43c0c84274ee",
   "metadata": {},
   "outputs": [],
   "source": [
    "df[['Sales','Profit']].describe()"
   ]
  },
  {
   "cell_type": "code",
   "execution_count": null,
   "id": "609516f9-679b-4dd5-a83d-8cb75bdb5447",
   "metadata": {},
   "outputs": [],
   "source": [
    "# check nulls in a column\n",
    "segmentnulls = df['Segment'].isnull().sum()\n",
    "citynulls = df['City'].isnull().sum()\n",
    "profitnulls = df['Profit'].isnull().sum()\n",
    "\n",
    "f\"Nulls in segment: {segmentnulls} | Nulls in city: {citynulls} | Nulls in profits: {profitnulls}\"\n"
   ]
  },
  {
   "cell_type": "code",
   "execution_count": null,
   "id": "3c3c8946-22db-4550-8ccd-3fcbc961aa82",
   "metadata": {},
   "outputs": [],
   "source": [
    "# filtering\n",
    "df[['Region','Sales','Profit']]"
   ]
  },
  {
   "cell_type": "code",
   "execution_count": null,
   "id": "56213040-4b21-49ac-bc8e-ee13b10fde2f",
   "metadata": {},
   "outputs": [],
   "source": [
    "dfSouthRegion = df[df['Region']=='South']\n",
    "dfSouthRegion[['Region','Sales']]"
   ]
  },
  {
   "cell_type": "markdown",
   "id": "063865f0-2339-4cbd-88e8-f184c3a79b61",
   "metadata": {},
   "source": [
    "## some graphs"
   ]
  },
  {
   "cell_type": "code",
   "execution_count": null,
   "id": "d0e48911-0bba-4e3a-9809-aca46f3689cd",
   "metadata": {},
   "outputs": [],
   "source": [
    "import matplotlib.pyplot as plt\n",
    "import seaborn as sns"
   ]
  },
  {
   "cell_type": "code",
   "execution_count": null,
   "id": "e2deae8d-0c73-4f93-98a4-3ec7b3d59ad7",
   "metadata": {},
   "outputs": [],
   "source": [
    "# univariate graph\n",
    "# sales histogram\n",
    "\n"
   ]
  }
 ],
 "metadata": {
  "kernelspec": {
   "display_name": "Python 3 (ipykernel)",
   "language": "python",
   "name": "python3"
  },
  "language_info": {
   "codemirror_mode": {
    "name": "ipython",
    "version": 3
   },
   "file_extension": ".py",
   "mimetype": "text/x-python",
   "name": "python",
   "nbconvert_exporter": "python",
   "pygments_lexer": "ipython3",
   "version": "3.10.4"
  }
 },
 "nbformat": 4,
 "nbformat_minor": 5
}
